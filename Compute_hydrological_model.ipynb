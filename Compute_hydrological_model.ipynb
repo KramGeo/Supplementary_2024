{
 "cells": [
  {
   "cell_type": "code",
   "execution_count": 1,
   "metadata": {
    "ExecuteTime": {
     "end_time": "2024-03-09T16:12:52.030332Z",
     "start_time": "2024-03-09T16:12:51.461397Z"
    }
   },
   "outputs": [
    {
     "name": "stdout",
     "output_type": "stream",
     "text": [
      "Current directory:  C:\\Users\\Thomas\\OneDrive\\Bureau\\Data_article_2024\\Olivia\n",
      "Python folders:  ['EffectiveMedia', 'Fluid', 'Hydro', 'Utils']\n"
     ]
    }
   ],
   "source": [
    "import os\n",
    "import numpy as np\n",
    "import pandas as pd\n",
    "import matplotlib.pyplot as plt\n",
    "# Go to Python folder to import routines\n",
    "if os.getcwd() != r'C:\\Users\\Thomas\\OneDrive\\Bureau\\Data_article_2024\\Olivia': \n",
    "    os.chdir(r'C:\\Users\\Thomas\\OneDrive\\Bureau\\Data_article_2024\\Olivia')\n",
    "print('Current directory: ', os.getcwd())\n",
    "print('Python folders: ', [x for x in os.listdir() if '.' not in x])\n",
    "# Import routines\n",
    "from EffectiveMedia.GranularModels import Walton_modified\n",
    "from Fluid.Gassmann import isoGassmann, fluidWood\n",
    "from Hydro.hydro_models import Swe_from_wt_VG\n",
    "from Utils.bounds import HillAvr\n",
    "from Utils.elastic_param import Vp_from_K_G, Vs_from_G\n",
    "def __Swe(Sw,Swr):\n",
    "    return((Sw-Swr)/(1-Swr))\n",
    "# Routine stair_case"
   ]
  },
  {
   "cell_type": "code",
   "execution_count": 39,
   "metadata": {
    "ExecuteTime": {
     "end_time": "2024-03-09T16:22:38.027561Z",
     "start_time": "2024-03-09T16:22:38.013547Z"
    }
   },
   "outputs": [],
   "source": [
    "# Routine stair_case\n",
    "def __function_staircase(depth,Vp,Vs,Rho,time): # permet de faire une fonction escalier type modèle de vitesse\n",
    "    # Vp est un vecteur\n",
    "    # Vs est un vecteur\n",
    "    # Rho est une matrice\n",
    "    # time est l'index de temps correspondant pour le modèle\n",
    "    x=[]\n",
    "    y=[]\n",
    "    for i in range(depth.size-1):\n",
    "        X=np.zeros(2)\n",
    "        Y=np.zeros(2)\n",
    "        X[:]=Vs_refz[i][time]\n",
    "        Y[0]=depth[i]\n",
    "        Y[1]=depth[i+1]\n",
    "        x.append(X)\n",
    "        y.append(Y)\n",
    "    x=np.asarray(x)\n",
    "    y=np.asarray(y)\n",
    "    x=np.asarray(x).reshape(x.size)\n",
    "    y=np.asarray(y).reshape(y.size)\n",
    "    dVs=np.asarray(x)\n",
    "    dVsdepth=np.asarray(y)\n",
    "    x=[]\n",
    "    y=[]\n",
    "    for i in range(depth.size-1):\n",
    "        X=np.zeros(2)\n",
    "        Y=np.zeros(2)\n",
    "        X[:]=Vp_refz[i][time]\n",
    "        Y[0]=depth[i]\n",
    "        Y[1]=depth[i+1]\n",
    "        x.append(X)\n",
    "        y.append(Y)\n",
    "    x=np.asarray(x)\n",
    "    y=np.asarray(y)\n",
    "    x=np.asarray(x).reshape(x.size)\n",
    "    y=np.asarray(y).reshape(y.size)\n",
    "    dVp=np.asarray(x)\n",
    "    dVpdepth=np.asarray(y)\n",
    "    x=[]\n",
    "    y=[]\n",
    "    for i in range(depth.size-1):\n",
    "        X=np.zeros(2)\n",
    "        Y=np.zeros(2)\n",
    "        X[:]=Rho[i,time]\n",
    "        Y[0]=depth[i]\n",
    "        Y[1]=depth[i+1]\n",
    "        x.append(X)\n",
    "        y.append(Y)\n",
    "    x=np.asarray(x)\n",
    "    y=np.asarray(y)\n",
    "    x=np.asarray(x).reshape(x.size)\n",
    "    y=np.asarray(y).reshape(y.size)\n",
    "    dVrho=np.asarray(x)\n",
    "    dVrhodepth=np.asarray(y)\n",
    "    return(dVp,dVs,dVrho,dVrhodepth)"
   ]
  },
  {
   "cell_type": "code",
   "execution_count": 41,
   "metadata": {
    "ExecuteTime": {
     "end_time": "2024-03-09T16:22:59.602882Z",
     "start_time": "2024-03-09T16:22:57.133577Z"
    }
   },
   "outputs": [
    {
     "data": {
      "text/plain": [
       "<matplotlib.image.AxesImage at 0x229540d3848>"
      ]
     },
     "execution_count": 41,
     "metadata": {},
     "output_type": "execute_result"
    },
    {
     "data": {
      "image/png": "[encoded data removed]",
      "text/plain": [
       "<Figure size 432x288 with 1 Axes>"
      ]
     },
     "metadata": {
      "needs_background": "light"
     },
     "output_type": "display_data"
    },
    {
     "data": {
      "image/png": "[encoded data removed]",
      "text/plain": [
       "<Figure size 432x288 with 1 Axes>"
      ]
     },
     "metadata": {
      "needs_background": "light"
     },
     "output_type": "display_data"
    }
   ],
   "source": [
    "New_Depth=-np.arange(2,50,2)\n",
    "Sw, Pw, Pf, depth = np.load(r'Saturation_Pw_Pf_depth_Clarisse2.npy',allow_pickle=True)\n",
    "import numpy as np\n",
    "def find_nearest(array, value):\n",
    "    array = np.asarray(array)\n",
    "    idx = (np.abs(array - value)).argmin()\n",
    "    return idx\n",
    "Sw_new=np.zeros((New_Depth.size,Sw[0].size))\n",
    "for i in range(depth.size):\n",
    "    idx=find_nearest(New_Depth,depth[i])\n",
    "    Sw_new[idx]=Sw[i]\n",
    "SS=Sw_new.copy()\n",
    "plt.imshow(Sw_new,aspect='auto',extent=[0,72,-50,0])    \n",
    "Sw_new[0]=Sw_new[4]\n",
    "Sw_new[1]=Sw_new[4]\n",
    "Sw_new[2]=Sw_new[4]\n",
    "Sw_new[3]=Sw_new[4]\n",
    "Sw_new[4]=Sw_new[4]\n",
    "\n",
    "for i in range(25920):\n",
    "    y = Sw[:,i]\n",
    "    x = depth\n",
    "    z = np.polyfit(x, y, 4)\n",
    "    p = np.poly1d(z)\n",
    "    j=p(New_Depth)\n",
    "    Sw_new[:,i]=j\n",
    "\n",
    "### Saturation extrapolation between - 9 and 0     \n",
    "Sw_new[0]=Sw_new[4]\n",
    "Sw_new[1]=Sw_new[4]\n",
    "Sw_new[2]=Sw_new[4]\n",
    "Sw_new[3]=Sw_new[4]\n",
    "\n",
    "\n",
    "#Sw_new[-4]=Sw_new[-5]*1.0001\n",
    "#Sw_new[-3]=Sw_new[-4]*1.0001\n",
    "#Sw_new[-2]=Sw_new[-3]*1.0001\n",
    "#Sw_new[-1]=Sw_new[-2]*1.0001\n",
    "\n",
    "plt.figure()\n",
    "plt.imshow(Sw_new,aspect='auto',extent=[0,72,-50,0])    \n"
   ]
  },
  {
   "cell_type": "code",
   "execution_count": 42,
   "metadata": {
    "ExecuteTime": {
     "end_time": "2024-03-09T16:23:07.123571Z",
     "start_time": "2024-03-09T16:23:07.039495Z"
    }
   },
   "outputs": [
    {
     "data": {
      "text/plain": [
       "[<matplotlib.lines.Line2D at 0x22953fc2388>]"
      ]
     },
     "execution_count": 42,
     "metadata": {},
     "output_type": "execute_result"
    },
    {
     "data": {
      "image/png": "[encoded data removed]",
      "text/plain": [
       "<Figure size 432x288 with 1 Axes>"
      ]
     },
     "metadata": {
      "needs_background": "light"
     },
     "output_type": "display_data"
    }
   ],
   "source": [
    "plt.plot(New_Depth,Sw_new[:,0])\n",
    "y = Sw[:,i]\n",
    "x = depth\n",
    "z = np.polyfit(x, y, 2)\n",
    "p = np.poly1d(z)\n",
    "j=p(New_Depth)\n",
    "plt.plot(New_Depth,SS[:,0],'.')"
   ]
  },
  {
   "cell_type": "code",
   "execution_count": 45,
   "metadata": {
    "ExecuteTime": {
     "end_time": "2024-03-09T16:23:48.567518Z",
     "start_time": "2024-03-09T16:23:47.996502Z"
    }
   },
   "outputs": [
    {
     "name": "stdout",
     "output_type": "stream",
     "text": [
      "La référence piezométrique est prise sur le capteur @ 52 cm\n",
      "Vs_ref2 = 71.5 m/s\n",
      "Vs_refz = 73.8 m/s\n",
      "La référence piezométrique est prise sur le capteur @ 52 cm\n",
      "Vs_ref2 = 72.2 m/s\n",
      "Vs_refz = 74.3 m/s\n",
      "La référence piezométrique est prise sur le capteur @ 52 cm\n",
      "Vs_ref2 = 72.9 m/s\n",
      "Vs_refz = 74.9 m/s\n",
      "La référence piezométrique est prise sur le capteur @ 52 cm\n",
      "Vs_ref2 = 73.6 m/s\n",
      "Vs_refz = 75.4 m/s\n",
      "La référence piezométrique est prise sur le capteur @ 52 cm\n",
      "Vs_ref2 = 74.3 m/s\n",
      "Vs_refz = 75.9 m/s\n",
      "La référence piezométrique est prise sur le capteur @ 52 cm\n",
      "Vs_ref2 = 74.7 m/s\n",
      "Vs_refz = 76.3 m/s\n",
      "La référence piezométrique est prise sur le capteur @ 52 cm\n",
      "Vs_ref2 = 75.1 m/s\n",
      "Vs_refz = 76.4 m/s\n",
      "La référence piezométrique est prise sur le capteur @ 52 cm\n",
      "Vs_ref2 = 75.3 m/s\n",
      "Vs_refz = 76.5 m/s\n",
      "La référence piezométrique est prise sur le capteur @ 52 cm\n",
      "Vs_ref2 = 75.4 m/s\n",
      "Vs_refz = 76.5 m/s\n",
      "La référence piezométrique est prise sur le capteur @ 52 cm\n",
      "Vs_ref2 = 75.5 m/s\n",
      "Vs_refz = 76.4 m/s\n",
      "La référence piezométrique est prise sur le capteur @ 52 cm\n",
      "Vs_ref2 = 75.6 m/s\n",
      "Vs_refz = 76.4 m/s\n",
      "La référence piezométrique est prise sur le capteur @ 52 cm\n",
      "Vs_ref2 = 75.6 m/s\n",
      "Vs_refz = 76.4 m/s\n",
      "La référence piezométrique est prise sur le capteur @ 52 cm\n",
      "Vs_ref2 = 75.8 m/s\n",
      "Vs_refz = 76.4 m/s\n",
      "La référence piezométrique est prise sur le capteur @ 52 cm\n",
      "Vs_ref2 = 75.9 m/s\n",
      "Vs_refz = 76.4 m/s\n",
      "La référence piezométrique est prise sur le capteur @ 52 cm\n",
      "Vs_ref2 = 76.1 m/s\n",
      "Vs_refz = 76.5 m/s\n",
      "La référence piezométrique est prise sur le capteur @ 52 cm\n",
      "Vs_ref2 = 76.3 m/s\n",
      "Vs_refz = 76.7 m/s\n",
      "La référence piezométrique est prise sur le capteur @ 52 cm\n",
      "Vs_ref2 = 76.6 m/s\n",
      "Vs_refz = 76.9 m/s\n",
      "La référence piezométrique est prise sur le capteur @ 52 cm\n",
      "Vs_ref2 = 77.0 m/s\n",
      "Vs_refz = 77.2 m/s\n",
      "La référence piezométrique est prise sur le capteur @ 52 cm\n",
      "Vs_ref2 = 77.4 m/s\n",
      "Vs_refz = 77.5 m/s\n",
      "La référence piezométrique est prise sur le capteur @ 52 cm\n",
      "Vs_ref2 = 77.8 m/s\n",
      "Vs_refz = 77.8 m/s\n",
      "La référence piezométrique est prise sur le capteur @ 52 cm\n",
      "Vs_ref2 = 78.2 m/s\n",
      "Vs_refz = 78.2 m/s\n",
      "La référence piezométrique est prise sur le capteur @ 52 cm\n",
      "Vs_ref2 = 78.7 m/s\n",
      "Vs_refz = 78.6 m/s\n",
      "La référence piezométrique est prise sur le capteur @ 52 cm\n",
      "Vs_ref2 = 79.1 m/s\n",
      "Vs_refz = 78.9 m/s\n",
      "La référence piezométrique est prise sur le capteur @ 52 cm\n",
      "Vs_ref2 = 79.5 m/s\n",
      "Vs_refz = 79.3 m/s\n"
     ]
    }
   ],
   "source": [
    "coeff_corr=0\n",
    "Pf_depth=27+ coeff_corr     # Depth of Pf measurement\n",
    "Pz_depth=52#   + coeff_corr    # Depth of Pz measurement\n",
    "L_sand=58         # Sand width\n",
    "correct=[]\n",
    "for i in range(New_Depth.size):\n",
    "    Sw, Pw, Pf, depth = np.load(r'C:\\Users\\Thomas\\OneDrive\\Bureau\\Data_article_2024\\Hydro/Saturation_Pw_Pf_depth.npy',allow_pickle=True)\n",
    "    Sw=Sw_new\n",
    "    depth=New_Depth#+ coeff_corr+1\n",
    "    #depth-=coeff_corr\n",
    "    Pw = Pw*1e-1 # kPa\n",
    "    Pf = Pf*1e-1 # kPa\n",
    "    PzR_depth=abs(depth[i])      # Depth of Pr_R to be recovered\n",
    "    PiezoRef='Pz'\n",
    "    # Compute Pw, the recovered pressur at depth z\n",
    "    if PiezoRef==\"Pz\":\n",
    "        print('La référence piezométrique est prise sur le capteur @',Pz_depth,'cm')\n",
    "        i_piezo = np.argmax(abs(depth))#np.where(depth==np)[0][0] # indice de prof équivalent Pz/Sw, 48 etant le plus proche de 50\n",
    "        Pw_z=Pw-0.098064*(Pz_depth-PzR_depth) # Calcul de la pression à la profondeur z à partir de Pz\n",
    "    else:\n",
    "        print('La référence piezométrique est prise sur le capteur @',Pf_depth,'cm')    \n",
    "        i_piezo = find_nearest(depth, -Pf_depth) # indice de prof équivalent Pf/Sw\n",
    "        Pw_z=Pf-0.098064*(Pf_depth-PzR_depth) # Calcul de la pression à la profondeur z à partir de Pf\n",
    "        Pw_z=Pf-0.098064*(Pf_depth-PzR_depth) # Calcul de la pression à la profondeur z à partir de Pf\n",
    "\n",
    "    i_piezof =find_nearest(depth, -Pf_depth) #np.where(depth==-Pf_depth)[0][0] # indice de prof équivalent Pf/Sw\n",
    "    i_piezoR =find_nearest(depth, -PzR_depth) #np.where(depth==-PzR_depth)[0][0] # indice de prof équivalent Pz/Sw\n",
    "    #print(i_piezoR,PzR_depth)\n",
    "\n",
    "    #i_piezof = np.where(depth==-Pf_depth)[0][0] # indice de prof équivalent Pf/Sw\n",
    "    SwPf = Sw[i_piezof,:]\n",
    "    SwR = Sw[i_piezoR,:]\n",
    "    # Check hydrostatic values for depth=28cm and depth=54cm\n",
    "    rho_w = 1.0*1e3            # water density (kg/m3)\n",
    "    g = 9.806                  # Earth’s gravitational acceleration (m.s^-2)\n",
    "    z = np.array([Pf_depth,Pz_depth])*1e-2 # depth (m)\n",
    "    Phydro = rho_w*g*z*1e-3    # computed hydrostatic pressure (kPa)\n",
    "    # Mineral properties\n",
    "    K_Qz = 44      #GPa (Barriere et al., GJI 2012) Shear Modulus solid\n",
    "    G_Qz = 36      #GPa (Barriere et al., GJI 2012) Bulk Modulus solid\n",
    "    rho_Qz = 2.65  #g/cc (Barriere et al., GJI 2012) density of quartz\n",
    "    K_Ka = 1.5     #GPa  Bulk Modulus gaz\n",
    "    G_Ka = 1.4     #GPa  Shear gaz\n",
    "    rho_Ka = 1.58  #g/cc 1.58\n",
    "    f_Qz = 1.0     #unitless 1.0\n",
    "\n",
    "    # Fluid properties\n",
    "    Kw = 2.5     #GPa 2.3 Barriere \n",
    "    rho_w = 1.0  #g/cc 1.0\n",
    "    Ka = 1e-4    #GPa 1e-4\n",
    "    rho_a = 1e-3 #g/cc 1e-3\n",
    "\n",
    "    # Rock matrix properties\n",
    "    phi = 0.4 #Porosity - measured (Barriere et al., GJI 2012)\n",
    "    phi_0=0.38\n",
    "    C0 = 6      #Coordination number in the high stress limit - Landes Sand (Barriere et al., GJI 2012)\n",
    "    R = 2/5     #Walton friction parameter (Barriere et al., GJI 2012)\n",
    "    P0 = 22     #Critical pressure for modified Walton model (MPa) - (Barriere et al., GJI 2012)\n",
    "    Swr = 0.1  #Residual water saturation (to confirm with Thomas)\n",
    "    Ks = HillAvr(K_Qz, f_Qz, K_Ka)        #GPa\n",
    "    Gs = HillAvr(G_Qz, f_Qz, G_Ka)        #GPa\n",
    "    rho_s = rho_Qz*f_Qz + (1-f_Qz)*rho_Ka #g/cc\n",
    "    rho_f = SwR*rho_w + (1-SwR)*rho_a  #g/cc (fluid density at piezometer level) # Control Vs\n",
    "    rho_f_full = Sw*rho_w + (1-Sw)*rho_a #g/cc\n",
    "    Kf = fluidWood(SwR, Kw, Ka)         #GPa\n",
    "    # Bulk density\n",
    "    rho_sat = rho_s*(1-phi) + rho_f_full[i_piezof,:]*phi        #g/cc (fluid density at piezometer level)\n",
    "    rho_satR = rho_s*(1-phi) + rho_f_full[i_piezoR,:]*phi        #g/cc (fluid density at piezometer level)\n",
    "    rho_sat_full = rho_s*(1-phi) + rho_f_full*phi #g/cc \n",
    "    P=np.zeros([len(depth), Sw[0].size]) # matrice utilisée pour la pression de confirnement (overburden stress)\n",
    "    prod_rhoDepth_min = np.zeros(np.shape(Sw))\n",
    "    for i_depth in range(New_Depth.size):\n",
    "        if i_depth == 0 :\n",
    "            prod_rhoDepth_min[i_depth,:] = rho_sat_full[i_depth,:]*1e3*abs(depth[i_depth]-0)*1e-2  \n",
    "            #print(depth[i_depth])\n",
    "            P[i_depth,:]= prod_rhoDepth_min[i_depth,:]*g*1e-6\n",
    "        else :\n",
    "            prod_rhoDepth_min[i_depth,:] = rho_sat_full[i_depth,:]*1e3*abs(depth[i_depth]-depth[i_depth-1])*1e-2  #  * dz\n",
    "            #prod_rhoDepth_min[i_depth,:] = rho_sat_full[i_depth,:]*1e3*abs(depth[i_depth])*1e-2  #  * dz\n",
    "\n",
    "            P[i_depth,:]=np.sum(prod_rhoDepth_min[0:i_depth,:],axis=0)*g*1e-6 + P[0,:]\n",
    "\n",
    "    # Effective pressure\n",
    "    #-- Test Peff = P - Pf\n",
    "    Peff = P[i_piezof,:] - Pf*1e-3  # effective pressure (MPa) Terzaghi @ 27cm (Peff=sigma-Pf)\n",
    "    Peff2 = P[i_piezoR,:]  -__Swe(Sw[i_depth],Swr)*Pw_z*1e-3# effective pressure (MPa) used for the simple fluid substitution\n",
    "    Peff_z = P[i_piezoR,:] - Pw_z*1e-3  # effective pressure (MPa) recovered at depth z # Il faut casser cette valeur par 3 pour tendre\n",
    "    #Peff_z=(1-phi)*(rho_Qz-np.sum(Sw_new[0:i_depth])*1)*g*(abs(depth[i_depth]*10**-2))*1e-3\n",
    "    #Peff_z=(1-phi)*(rho_Qz-np.sum(Sw_new[0:i_depth],0)/i_depth*1)*g*(abs(depth[i_depth]*10**-2))*1e-3\n",
    "\n",
    "    # Vers des Vs acceptable.\n",
    "    # Drained properties\n",
    "    ### içi.\n",
    "    Kdr, Gdr = Walton_modified(Ks, Gs, Peff, P0, phi=phi_0, C0=C0, R=R); # Biot-Gassman + Walton avec Pf\n",
    "    Kdr2, Gdr2 = Walton_modified(Ks, Gs, Peff2, P0, phi=phi_0, C0=C0, R=R) # Biot Gassman substitution de fluide sans Pf\n",
    "    Kdrz, Gdrz = Walton_modified(Ks, Gs, Peff_z, P0, phi=phi_0, C0=C0, R=R)# Biot-Gassman + Walton avec Pf recovered @ z\n",
    "    # Saturated properties\n",
    "    Ksat = isoGassmann(Kdr, Gdr, Ks, Kf, phi)\n",
    "    Vp_sat = Vp_from_K_G(Ksat, Gdr, rho_sat)\n",
    "    Vs_sat = Vs_from_G(Gdr, rho_sat)\n",
    "    Ksat2 = isoGassmann(Kdr2[len(Kdr2)-10], Gdr2[len(Kdr2)-10], Ks, Kf, phi)\n",
    "    Vp_sat2= Vp_from_K_G(Ksat2, Gdr2, rho_satR)\n",
    "    Vs_sat2 = Vs_from_G(Gdr2, rho_satR)\n",
    "    Ksatz = isoGassmann(Kdrz[len(Kdrz)-10], Gdrz[len(Kdrz)-10], Ks, Kf, phi) ### Pourquoi - 10? -- On s'en fou\n",
    "    Vp_satz= Vp_from_K_G(Ksatz, Gdrz, rho_satR)\n",
    "    Vs_satz = Vs_from_G(Gdrz, rho_satR)\n",
    "    # Reference velocities (same as Thomas, avg of velocities between 2300 and 3000 min)\n",
    "    t_ref1 = int(2300*60/10)\n",
    "    t_ref2 = int(3000*60/10)\n",
    "    Vp_ref = np.nanmean(Vp_sat[t_ref1:t_ref2]); #print('Vp_ref = {:.1f} m/s'.format(Vp_ref*1e3))\n",
    "    Vs_ref = np.nanmean(Vs_sat[t_ref1:t_ref2]); #print('Vs_ref = {:.1f} m/s'.format(Vs_ref*1e3))\n",
    "    Vp_ref2 = np.nanmean(Vp_sat2[t_ref1:t_ref2]); #print('Vp_ref2 = {:.1f} m/s'.format(Vp_ref2*1e3))\n",
    "    Vs_ref2 = np.nanmean(Vs_sat2[t_ref1:t_ref2]); print('Vs_ref2 = {:.1f} m/s'.format(Vs_ref2*1e3))\n",
    "    Vp_refz = np.nanmean(Vp_satz[t_ref1:t_ref2]); #print('Vp_refz = {:.1f} m/s'.format(Vp_refz*1e3))\n",
    "    Vs_refz = np.nanmean(Vs_satz[t_ref1:t_ref2]); print('Vs_refz = {:.1f} m/s'.format(Vs_refz*1e3))\n",
    "    #Biot-Gassman\n",
    "    Kfr=0.02 # Frame modulus\n",
    "    Gfr=0.0154 # shear frame modulus\n",
    "    KsatB= isoGassmann(Kfr, Gfr, Ks, Kf, phi)\n",
    "    Vp_satB=Vp_from_K_G(KsatB,Gfr,rho_satR)\n",
    "    Vs_satB = Vs_from_G(Gfr, rho_satR)\n",
    "    Vp_refB = np.mean(Vp_satB[t_ref1:t_ref2]); #print('Vp_refB = {:.1f} m/s'.format(Vp_refB*1e3))\n",
    "    Vs_refB = np.mean(Vs_satB[t_ref1:t_ref2]); #print('Vs_refB = {:.1f} m/s'.format(Vs_refB*1e3))\n",
    "    #### Uncomme\n",
    "    #np.save(rf'C:\\Hydro_modele\\dv_compute\\roflTest_Modeling_petro_{phi}1_cmInterp_SwPf_Phi_0v2_{PzR_depth}_{PiezoRef}__piezo_depth_{Pz_depth}_add_BG',[Vp_sat,Vs_sat,Vp_sat2,Vs_sat2,Vp_satz,Vs_satz,Vp_refB,Vs_refB,Vs_satB,rho_sat_full,Peff_z])"
   ]
  },
  {
   "cell_type": "code",
   "execution_count": null,
   "metadata": {},
   "outputs": [],
   "source": []
  }
 ],
 "metadata": {
  "kernelspec": {
   "display_name": "Python 3",
   "language": "python",
   "name": "python3"
  },
  "language_info": {
   "codemirror_mode": {
    "name": "ipython",
    "version": 3
   },
   "file_extension": ".py",
   "mimetype": "text/x-python",
   "name": "python",
   "nbconvert_exporter": "python",
   "pygments_lexer": "ipython3",
   "version": "3.7.6"
  },
  "toc": {
   "base_numbering": 1,
   "nav_menu": {},
   "number_sections": true,
   "sideBar": true,
   "skip_h1_title": false,
   "title_cell": "Table of Contents",
   "title_sidebar": "Contents",
   "toc_cell": false,
   "toc_position": {},
   "toc_section_display": true,
   "toc_window_display": false
  },
  "varInspector": {
   "cols": {
    "lenName": 16,
    "lenType": 16,
    "lenVar": 40
   },
   "kernels_config": {
    "python": {
     "delete_cmd_postfix": "",
     "delete_cmd_prefix": "del ",
     "library": "var_list.py",
     "varRefreshCmd": "print(var_dic_list())"
    },
    "r": {
     "delete_cmd_postfix": ") ",
     "delete_cmd_prefix": "rm(",
     "library": "var_list.r",
     "varRefreshCmd": "cat(var_dic_list()) "
    }
   },
   "types_to_exclude": [
    "module",
    "function",
    "builtin_function_or_method",
    "instance",
    "_Feature"
   ],
   "window_display": false
  }
 },
 "nbformat": 4,
 "nbformat_minor": 4
}
