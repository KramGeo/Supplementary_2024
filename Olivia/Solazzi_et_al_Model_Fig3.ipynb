{
 "cells": [
  {
   "cell_type": "markdown",
   "id": "a1e42e0e",
   "metadata": {},
   "source": [
    "# Effect of capillary forces on $V_P$ and $V_S$\n",
    "Modelled using *Solazzi, S. G., Bodet, L., Holliger, K., & Jougnot, D. (2021). Surface‐Wave Dispersion in Partially Saturated Soils: The Role of Capillary Forces. Journal of Geophysical Research: Solid Earth, e2021JB022074*."
   ]
  },
  {
   "cell_type": "markdown",
   "id": "8f00f966",
   "metadata": {},
   "source": [
    "### Load Packages and Routines"
   ]
  },
  {
   "cell_type": "code",
   "execution_count": 1,
   "id": "e06346d1",
   "metadata": {},
   "outputs": [],
   "source": [
    "import os\n",
    "import numpy as np\n",
    "import pandas as pd\n",
    "import matplotlib.pyplot as plt"
   ]
  },
  {
   "cell_type": "code",
   "execution_count": 2,
   "id": "7199bf54",
   "metadata": {},
   "outputs": [
    {
     "name": "stdout",
     "output_type": "stream",
     "text": [
      "Current directory:  C:\\Olivia\\Python\n",
      "Python folders:  ['.spyproject', 'EffectiveMedia', 'Fluid', 'Hydro', 'LabProcessing', 'Stress', 'Thermal', 'Utils', '_Python EffectiveMedia Codes.docx', '_Python Fluid Codes.docx', '_Python Hydro Codes.docx', '_Python LabProcessing Codes.docx', '_Python Stress Codes.docx', '_Python Thermal Codes.docx', '_Python Utils Codes.docx', '~WRL0005.tmp']\n"
     ]
    }
   ],
   "source": [
    "# Go to Python folder to import routines\n",
    "if os.getcwd() != 'C:\\\\Olivia\\\\Python': \n",
    "    os.chdir('C:\\\\Olivia\\\\Python')\n",
    "print('Current directory: ', os.getcwd())\n",
    "print('Python folders: ', os.listdir())"
   ]
  },
  {
   "cell_type": "code",
   "execution_count": 3,
   "id": "1ec5ced2",
   "metadata": {},
   "outputs": [],
   "source": [
    "# Import routines\n",
    "from EffectiveMedia.GranularModels import HertzMindlin\n",
    "from Fluid.Gassmann import isoGassmann, fluidWood\n",
    "from Utils.bounds import HillAvr\n",
    "from Utils.elastic_param import Vp_from_K_G, Vs_from_G"
   ]
  },
  {
   "cell_type": "markdown",
   "id": "606c6305",
   "metadata": {},
   "source": [
    "### Load data and fit from Solazzi et al. (2021)"
   ]
  },
  {
   "cell_type": "markdown",
   "id": "6f318b60",
   "metadata": {},
   "source": [
    "Data from Dong and Lu (2016) and fit from Solazzi et al. (2021) were downloaded from the link provided in Solazzi et al. (2021) article: https://doi.org/10.5281/zenodo.5266459."
   ]
  },
  {
   "cell_type": "code",
   "execution_count": 4,
   "id": "ab800557",
   "metadata": {},
   "outputs": [
    {
     "name": "stdout",
     "output_type": "stream",
     "text": [
      "Current directory:  C:\\Olivia\\Data\\Surface Wave\\Solazzi_et_al_2021\\data_fig_3\n",
      "List of files:  ['Fig3b.eps', 'Fig3c.eps', 'Fig3d.eps', 'Figu3a.eps', 'Figure3_EsperanceSand.txt', 'Figure3_EsperanceSandVs_Dong&Lu.txt', 'Figure3_MissouriClay.txt', 'Figure3_MissouriClayVs_Dong&Lu.txt', 'README_data_fig_3', '__MACOSX']\n"
     ]
    }
   ],
   "source": [
    "# Go to data folder to load data\n",
    "if os.getcwd() != ('C:/Olivia/Data/Surface Wave/Solazzi_et_al_2021/data_fig_3'):\n",
    "    os.chdir('C:/Olivia/Data/Surface Wave/Solazzi_et_al_2021/data_fig_3')\n",
    "print('Current directory: ', os.getcwd())\n",
    "print('List of files: ', os.listdir())"
   ]
  },
  {
   "cell_type": "code",
   "execution_count": 5,
   "id": "62914588",
   "metadata": {},
   "outputs": [
    {
     "data": {
      "text/html": [
       "<div>\n",
       "<style scoped>\n",
       "    .dataframe tbody tr th:only-of-type {\n",
       "        vertical-align: middle;\n",
       "    }\n",
       "\n",
       "    .dataframe tbody tr th {\n",
       "        vertical-align: top;\n",
       "    }\n",
       "\n",
       "    .dataframe thead th {\n",
       "        text-align: right;\n",
       "    }\n",
       "</style>\n",
       "<table border=\"1\" class=\"dataframe\">\n",
       "  <thead>\n",
       "    <tr style=\"text-align: right;\">\n",
       "      <th></th>\n",
       "      <th>Sw</th>\n",
       "      <th>Vs (m/s)</th>\n",
       "    </tr>\n",
       "  </thead>\n",
       "  <tbody>\n",
       "    <tr>\n",
       "      <th>0</th>\n",
       "      <td>0.932</td>\n",
       "      <td>80.9</td>\n",
       "    </tr>\n",
       "    <tr>\n",
       "      <th>1</th>\n",
       "      <td>0.846</td>\n",
       "      <td>89.4</td>\n",
       "    </tr>\n",
       "    <tr>\n",
       "      <th>2</th>\n",
       "      <td>0.766</td>\n",
       "      <td>89.4</td>\n",
       "    </tr>\n",
       "    <tr>\n",
       "      <th>3</th>\n",
       "      <td>0.622</td>\n",
       "      <td>91.5</td>\n",
       "    </tr>\n",
       "    <tr>\n",
       "      <th>4</th>\n",
       "      <td>0.530</td>\n",
       "      <td>91.5</td>\n",
       "    </tr>\n",
       "    <tr>\n",
       "      <th>5</th>\n",
       "      <td>0.321</td>\n",
       "      <td>91.5</td>\n",
       "    </tr>\n",
       "  </tbody>\n",
       "</table>\n",
       "</div>"
      ],
      "text/plain": [
       "      Sw  Vs (m/s)\n",
       "0  0.932      80.9\n",
       "1  0.846      89.4\n",
       "2  0.766      89.4\n",
       "3  0.622      91.5\n",
       "4  0.530      91.5\n",
       "5  0.321      91.5"
      ]
     },
     "execution_count": 5,
     "metadata": {},
     "output_type": "execute_result"
    }
   ],
   "source": [
    "# Load Esperance Sand data (from Dong & Lu (2016))\n",
    "esp_sand_df = pd.read_csv('Figure3_EsperanceSandVs_Dong&Lu.txt', \n",
    "                          skiprows=3, sep='\\t', index_col=None,\n",
    "                          names=['Sw', 'Vs (m/s)'])\n",
    "esp_sand_df"
   ]
  },
  {
   "cell_type": "code",
   "execution_count": 6,
   "id": "b069be66",
   "metadata": {},
   "outputs": [
    {
     "data": {
      "text/html": [
       "<div>\n",
       "<style scoped>\n",
       "    .dataframe tbody tr th:only-of-type {\n",
       "        vertical-align: middle;\n",
       "    }\n",
       "\n",
       "    .dataframe tbody tr th {\n",
       "        vertical-align: top;\n",
       "    }\n",
       "\n",
       "    .dataframe thead th {\n",
       "        text-align: right;\n",
       "    }\n",
       "</style>\n",
       "<table border=\"1\" class=\"dataframe\">\n",
       "  <thead>\n",
       "    <tr style=\"text-align: right;\">\n",
       "      <th></th>\n",
       "      <th>Sw</th>\n",
       "      <th>Vs (m/s)</th>\n",
       "    </tr>\n",
       "  </thead>\n",
       "  <tbody>\n",
       "    <tr>\n",
       "      <th>0</th>\n",
       "      <td>0.998</td>\n",
       "      <td>61.7</td>\n",
       "    </tr>\n",
       "    <tr>\n",
       "      <th>1</th>\n",
       "      <td>0.975</td>\n",
       "      <td>89.4</td>\n",
       "    </tr>\n",
       "    <tr>\n",
       "      <th>2</th>\n",
       "      <td>0.944</td>\n",
       "      <td>128.0</td>\n",
       "    </tr>\n",
       "    <tr>\n",
       "      <th>3</th>\n",
       "      <td>0.902</td>\n",
       "      <td>177.0</td>\n",
       "    </tr>\n",
       "    <tr>\n",
       "      <th>4</th>\n",
       "      <td>0.840</td>\n",
       "      <td>226.0</td>\n",
       "    </tr>\n",
       "    <tr>\n",
       "      <th>5</th>\n",
       "      <td>0.783</td>\n",
       "      <td>251.0</td>\n",
       "    </tr>\n",
       "    <tr>\n",
       "      <th>6</th>\n",
       "      <td>0.710</td>\n",
       "      <td>260.0</td>\n",
       "    </tr>\n",
       "    <tr>\n",
       "      <th>7</th>\n",
       "      <td>0.638</td>\n",
       "      <td>268.0</td>\n",
       "    </tr>\n",
       "    <tr>\n",
       "      <th>8</th>\n",
       "      <td>0.546</td>\n",
       "      <td>287.0</td>\n",
       "    </tr>\n",
       "    <tr>\n",
       "      <th>9</th>\n",
       "      <td>0.493</td>\n",
       "      <td>309.0</td>\n",
       "    </tr>\n",
       "    <tr>\n",
       "      <th>10</th>\n",
       "      <td>0.407</td>\n",
       "      <td>372.0</td>\n",
       "    </tr>\n",
       "    <tr>\n",
       "      <th>11</th>\n",
       "      <td>0.329</td>\n",
       "      <td>498.0</td>\n",
       "    </tr>\n",
       "    <tr>\n",
       "      <th>12</th>\n",
       "      <td>0.282</td>\n",
       "      <td>681.0</td>\n",
       "    </tr>\n",
       "  </tbody>\n",
       "</table>\n",
       "</div>"
      ],
      "text/plain": [
       "       Sw  Vs (m/s)\n",
       "0   0.998      61.7\n",
       "1   0.975      89.4\n",
       "2   0.944     128.0\n",
       "3   0.902     177.0\n",
       "4   0.840     226.0\n",
       "5   0.783     251.0\n",
       "6   0.710     260.0\n",
       "7   0.638     268.0\n",
       "8   0.546     287.0\n",
       "9   0.493     309.0\n",
       "10  0.407     372.0\n",
       "11  0.329     498.0\n",
       "12  0.282     681.0"
      ]
     },
     "execution_count": 6,
     "metadata": {},
     "output_type": "execute_result"
    }
   ],
   "source": [
    "# Load Missouri Clay data (from Dong & Lu (2016))\n",
    "mis_clay_df = pd.read_csv('Figure3_MissouriClayVs_Dong&Lu.txt', \n",
    "                          skiprows=3, sep='\\t', index_col=None,\n",
    "                          names=['Sw', 'Vs (m/s)'])\n",
    "mis_clay_df"
   ]
  },
  {
   "cell_type": "code",
   "execution_count": 7,
   "id": "83580374",
   "metadata": {},
   "outputs": [
    {
     "data": {
      "text/html": [
       "<div>\n",
       "<style scoped>\n",
       "    .dataframe tbody tr th:only-of-type {\n",
       "        vertical-align: middle;\n",
       "    }\n",
       "\n",
       "    .dataframe tbody tr th {\n",
       "        vertical-align: top;\n",
       "    }\n",
       "\n",
       "    .dataframe thead th {\n",
       "        text-align: right;\n",
       "    }\n",
       "</style>\n",
       "<table border=\"1\" class=\"dataframe\">\n",
       "  <thead>\n",
       "    <tr style=\"text-align: right;\">\n",
       "      <th></th>\n",
       "      <th>Sw</th>\n",
       "      <th>Vs_a (m/s)</th>\n",
       "      <th>Vs_b (m/s)</th>\n",
       "      <th>Vp_a (m/s)</th>\n",
       "      <th>Vp_b (m/s)</th>\n",
       "    </tr>\n",
       "  </thead>\n",
       "  <tbody>\n",
       "    <tr>\n",
       "      <th>0</th>\n",
       "      <td>0.151</td>\n",
       "      <td>89.1</td>\n",
       "      <td>86.7</td>\n",
       "      <td>149</td>\n",
       "      <td>146</td>\n",
       "    </tr>\n",
       "    <tr>\n",
       "      <th>1</th>\n",
       "      <td>0.152</td>\n",
       "      <td>89.5</td>\n",
       "      <td>86.7</td>\n",
       "      <td>150</td>\n",
       "      <td>146</td>\n",
       "    </tr>\n",
       "    <tr>\n",
       "      <th>2</th>\n",
       "      <td>0.153</td>\n",
       "      <td>89.8</td>\n",
       "      <td>86.7</td>\n",
       "      <td>151</td>\n",
       "      <td>146</td>\n",
       "    </tr>\n",
       "    <tr>\n",
       "      <th>3</th>\n",
       "      <td>0.153</td>\n",
       "      <td>90.0</td>\n",
       "      <td>86.7</td>\n",
       "      <td>151</td>\n",
       "      <td>146</td>\n",
       "    </tr>\n",
       "    <tr>\n",
       "      <th>4</th>\n",
       "      <td>0.154</td>\n",
       "      <td>90.1</td>\n",
       "      <td>86.7</td>\n",
       "      <td>151</td>\n",
       "      <td>145</td>\n",
       "    </tr>\n",
       "    <tr>\n",
       "      <th>...</th>\n",
       "      <td>...</td>\n",
       "      <td>...</td>\n",
       "      <td>...</td>\n",
       "      <td>...</td>\n",
       "      <td>...</td>\n",
       "    </tr>\n",
       "    <tr>\n",
       "      <th>994</th>\n",
       "      <td>0.996</td>\n",
       "      <td>81.9</td>\n",
       "      <td>80.4</td>\n",
       "      <td>225</td>\n",
       "      <td>224</td>\n",
       "    </tr>\n",
       "    <tr>\n",
       "      <th>995</th>\n",
       "      <td>0.997</td>\n",
       "      <td>81.8</td>\n",
       "      <td>80.4</td>\n",
       "      <td>242</td>\n",
       "      <td>240</td>\n",
       "    </tr>\n",
       "    <tr>\n",
       "      <th>996</th>\n",
       "      <td>0.997</td>\n",
       "      <td>81.6</td>\n",
       "      <td>80.4</td>\n",
       "      <td>267</td>\n",
       "      <td>266</td>\n",
       "    </tr>\n",
       "    <tr>\n",
       "      <th>997</th>\n",
       "      <td>0.998</td>\n",
       "      <td>81.4</td>\n",
       "      <td>80.4</td>\n",
       "      <td>311</td>\n",
       "      <td>310</td>\n",
       "    </tr>\n",
       "    <tr>\n",
       "      <th>998</th>\n",
       "      <td>0.999</td>\n",
       "      <td>81.2</td>\n",
       "      <td>80.4</td>\n",
       "      <td>413</td>\n",
       "      <td>412</td>\n",
       "    </tr>\n",
       "  </tbody>\n",
       "</table>\n",
       "<p>999 rows × 5 columns</p>\n",
       "</div>"
      ],
      "text/plain": [
       "        Sw  Vs_a (m/s)  Vs_b (m/s)  Vp_a (m/s)  Vp_b (m/s)\n",
       "0    0.151        89.1        86.7         149         146\n",
       "1    0.152        89.5        86.7         150         146\n",
       "2    0.153        89.8        86.7         151         146\n",
       "3    0.153        90.0        86.7         151         146\n",
       "4    0.154        90.1        86.7         151         145\n",
       "..     ...         ...         ...         ...         ...\n",
       "994  0.996        81.9        80.4         225         224\n",
       "995  0.997        81.8        80.4         242         240\n",
       "996  0.997        81.6        80.4         267         266\n",
       "997  0.998        81.4        80.4         311         310\n",
       "998  0.999        81.2        80.4         413         412\n",
       "\n",
       "[999 rows x 5 columns]"
      ]
     },
     "execution_count": 7,
     "metadata": {},
     "output_type": "execute_result"
    }
   ],
   "source": [
    "# Fit Solazzi et al. - Esperance Sand\n",
    "esp_sand_fit_df = pd.read_csv('Figure3_EsperanceSand.txt', \n",
    "                          skiprows=3, sep='\\t', index_col=None,\n",
    "                          names=['Sw', 'Vs_a (m/s)', 'Vs_b (m/s)', 'Vp_a (m/s)', 'Vp_b (m/s)'])\n",
    "esp_sand_fit_df"
   ]
  },
  {
   "cell_type": "code",
   "execution_count": 8,
   "id": "25e1ee83",
   "metadata": {},
   "outputs": [
    {
     "data": {
      "text/html": [
       "<div>\n",
       "<style scoped>\n",
       "    .dataframe tbody tr th:only-of-type {\n",
       "        vertical-align: middle;\n",
       "    }\n",
       "\n",
       "    .dataframe tbody tr th {\n",
       "        vertical-align: top;\n",
       "    }\n",
       "\n",
       "    .dataframe thead th {\n",
       "        text-align: right;\n",
       "    }\n",
       "</style>\n",
       "<table border=\"1\" class=\"dataframe\">\n",
       "  <thead>\n",
       "    <tr style=\"text-align: right;\">\n",
       "      <th></th>\n",
       "      <th>Sw</th>\n",
       "      <th>Vs_a (m/s)</th>\n",
       "      <th>Vs_b (m/s)</th>\n",
       "      <th>Vp_a (m/s)</th>\n",
       "      <th>Vp_b (m/s)</th>\n",
       "    </tr>\n",
       "  </thead>\n",
       "  <tbody>\n",
       "    <tr>\n",
       "      <th>0</th>\n",
       "      <td>0.231</td>\n",
       "      <td>4010.0</td>\n",
       "      <td>68.1</td>\n",
       "      <td>6340.0</td>\n",
       "      <td>109.0</td>\n",
       "    </tr>\n",
       "    <tr>\n",
       "      <th>1</th>\n",
       "      <td>0.231</td>\n",
       "      <td>4010.0</td>\n",
       "      <td>68.1</td>\n",
       "      <td>6340.0</td>\n",
       "      <td>109.0</td>\n",
       "    </tr>\n",
       "    <tr>\n",
       "      <th>2</th>\n",
       "      <td>0.231</td>\n",
       "      <td>4010.0</td>\n",
       "      <td>68.1</td>\n",
       "      <td>6330.0</td>\n",
       "      <td>109.0</td>\n",
       "    </tr>\n",
       "    <tr>\n",
       "      <th>3</th>\n",
       "      <td>0.231</td>\n",
       "      <td>4000.0</td>\n",
       "      <td>68.1</td>\n",
       "      <td>6330.0</td>\n",
       "      <td>109.0</td>\n",
       "    </tr>\n",
       "    <tr>\n",
       "      <th>4</th>\n",
       "      <td>0.231</td>\n",
       "      <td>4000.0</td>\n",
       "      <td>68.1</td>\n",
       "      <td>6330.0</td>\n",
       "      <td>109.0</td>\n",
       "    </tr>\n",
       "    <tr>\n",
       "      <th>...</th>\n",
       "      <td>...</td>\n",
       "      <td>...</td>\n",
       "      <td>...</td>\n",
       "      <td>...</td>\n",
       "      <td>...</td>\n",
       "    </tr>\n",
       "    <tr>\n",
       "      <th>998995</th>\n",
       "      <td>1.000</td>\n",
       "      <td>62.4</td>\n",
       "      <td>61.1</td>\n",
       "      <td>1390.0</td>\n",
       "      <td>1390.0</td>\n",
       "    </tr>\n",
       "    <tr>\n",
       "      <th>998996</th>\n",
       "      <td>1.000</td>\n",
       "      <td>62.2</td>\n",
       "      <td>61.1</td>\n",
       "      <td>1390.0</td>\n",
       "      <td>1390.0</td>\n",
       "    </tr>\n",
       "    <tr>\n",
       "      <th>998997</th>\n",
       "      <td>1.000</td>\n",
       "      <td>62.0</td>\n",
       "      <td>61.1</td>\n",
       "      <td>1400.0</td>\n",
       "      <td>1400.0</td>\n",
       "    </tr>\n",
       "    <tr>\n",
       "      <th>998998</th>\n",
       "      <td>1.000</td>\n",
       "      <td>61.7</td>\n",
       "      <td>61.1</td>\n",
       "      <td>1410.0</td>\n",
       "      <td>1410.0</td>\n",
       "    </tr>\n",
       "    <tr>\n",
       "      <th>998999</th>\n",
       "      <td>1.000</td>\n",
       "      <td>61.5</td>\n",
       "      <td>61.1</td>\n",
       "      <td>1420.0</td>\n",
       "      <td>1420.0</td>\n",
       "    </tr>\n",
       "  </tbody>\n",
       "</table>\n",
       "<p>999000 rows × 5 columns</p>\n",
       "</div>"
      ],
      "text/plain": [
       "           Sw  Vs_a (m/s)  Vs_b (m/s)  Vp_a (m/s)  Vp_b (m/s)\n",
       "0       0.231      4010.0        68.1      6340.0       109.0\n",
       "1       0.231      4010.0        68.1      6340.0       109.0\n",
       "2       0.231      4010.0        68.1      6330.0       109.0\n",
       "3       0.231      4000.0        68.1      6330.0       109.0\n",
       "4       0.231      4000.0        68.1      6330.0       109.0\n",
       "...       ...         ...         ...         ...         ...\n",
       "998995  1.000        62.4        61.1      1390.0      1390.0\n",
       "998996  1.000        62.2        61.1      1390.0      1390.0\n",
       "998997  1.000        62.0        61.1      1400.0      1400.0\n",
       "998998  1.000        61.7        61.1      1410.0      1410.0\n",
       "998999  1.000        61.5        61.1      1420.0      1420.0\n",
       "\n",
       "[999000 rows x 5 columns]"
      ]
     },
     "execution_count": 8,
     "metadata": {},
     "output_type": "execute_result"
    }
   ],
   "source": [
    "# Fit Solazzi et al. - Missouri Clay\n",
    "mis_clay_fit_df = pd.read_csv('Figure3_MissouriClay.txt', \n",
    "                          skiprows=3, sep='\\t', index_col=None,\n",
    "                          names=['Sw', 'Vs_a (m/s)', 'Vs_b (m/s)', 'Vp_a (m/s)', 'Vp_b (m/s)'])\n",
    "mis_clay_fit_df"
   ]
  },
  {
   "cell_type": "markdown",
   "id": "5d88dc13",
   "metadata": {},
   "source": [
    "### Plot parameters"
   ]
  },
  {
   "cell_type": "code",
   "execution_count": 9,
   "id": "02e51408",
   "metadata": {},
   "outputs": [],
   "source": [
    "# Plot parameters\n",
    "plt.rc('axes',labelsize=16)\n",
    "plt.rc('font',size=14)\n",
    "plt.rc('xtick',labelsize='medium')\n",
    "plt.rc('ytick',labelsize='medium')"
   ]
  },
  {
   "cell_type": "markdown",
   "id": "e0769964",
   "metadata": {},
   "source": [
    "### Input parameters"
   ]
  },
  {
   "cell_type": "markdown",
   "id": "a5ea231d",
   "metadata": {},
   "source": [
    "Input parameters for the modelling shown in Fig. 3. Input parameters are listed in Table 1. The Kaolinite and Quartz fractions are given in the text (Section 3.1)."
   ]
  },
  {
   "cell_type": "code",
   "execution_count": 10,
   "id": "a624ff14",
   "metadata": {},
   "outputs": [
    {
     "data": {
      "text/html": [
       "<div>\n",
       "<style scoped>\n",
       "    .dataframe tbody tr th:only-of-type {\n",
       "        vertical-align: middle;\n",
       "    }\n",
       "\n",
       "    .dataframe tbody tr th {\n",
       "        vertical-align: top;\n",
       "    }\n",
       "\n",
       "    .dataframe thead th {\n",
       "        text-align: right;\n",
       "    }\n",
       "</style>\n",
       "<table border=\"1\" class=\"dataframe\">\n",
       "  <thead>\n",
       "    <tr style=\"text-align: right;\">\n",
       "      <th></th>\n",
       "      <th>Esperance Sand</th>\n",
       "      <th>Missouri clay</th>\n",
       "    </tr>\n",
       "  </thead>\n",
       "  <tbody>\n",
       "    <tr>\n",
       "      <th>phi</th>\n",
       "      <td>0.419</td>\n",
       "      <td>0.49</td>\n",
       "    </tr>\n",
       "    <tr>\n",
       "      <th>f_Ka</th>\n",
       "      <td>0.300</td>\n",
       "      <td>0.90</td>\n",
       "    </tr>\n",
       "    <tr>\n",
       "      <th>f_Qz</th>\n",
       "      <td>0.700</td>\n",
       "      <td>0.10</td>\n",
       "    </tr>\n",
       "    <tr>\n",
       "      <th>C</th>\n",
       "      <td>6.000</td>\n",
       "      <td>8.00</td>\n",
       "    </tr>\n",
       "    <tr>\n",
       "      <th>FC</th>\n",
       "      <td>0.100</td>\n",
       "      <td>0.30</td>\n",
       "    </tr>\n",
       "    <tr>\n",
       "      <th>Swr</th>\n",
       "      <td>0.150</td>\n",
       "      <td>0.23</td>\n",
       "    </tr>\n",
       "    <tr>\n",
       "      <th>n_vg</th>\n",
       "      <td>2.360</td>\n",
       "      <td>1.28</td>\n",
       "    </tr>\n",
       "    <tr>\n",
       "      <th>alpha_vg</th>\n",
       "      <td>67.000</td>\n",
       "      <td>0.13</td>\n",
       "    </tr>\n",
       "  </tbody>\n",
       "</table>\n",
       "</div>"
      ],
      "text/plain": [
       "          Esperance Sand  Missouri clay\n",
       "phi                0.419           0.49\n",
       "f_Ka               0.300           0.90\n",
       "f_Qz               0.700           0.10\n",
       "C                  6.000           8.00\n",
       "FC                 0.100           0.30\n",
       "Swr                0.150           0.23\n",
       "n_vg               2.360           1.28\n",
       "alpha_vg          67.000           0.13"
      ]
     },
     "execution_count": 10,
     "metadata": {},
     "output_type": "execute_result"
    }
   ],
   "source": [
    "phi = np.array([0.419, 0.49])          #Porosity - section 3.1\n",
    "f_Ka = np.array([0.3, 0.9])            #Kaolinite fraction - section 3.1\n",
    "f_Qz = np.array([0.7, 0.1])            #Quartz fraction - section 3.1\n",
    "C = np.array([6, 8])                   #Coordination number - table 1\n",
    "FC = np.array([0.1,0.3])               #Friction coefficient - table 1\n",
    "Swr = np.array([0.15,0.23])            #Residual water saturation - table 1\n",
    "n_vg = np.array([2.36,1.28])           #Pore size distribution parameter - table 1\n",
    "alpha_vg = np.array([0.67,0.0013])*1e2 #Inverse of pore entry - table 1 - 1/m\n",
    "\n",
    "input_df = pd.DataFrame(columns = ['Esperance Sand', 'Missouri clay'],\n",
    "                        index  = ['phi', 'f_Ka', 'f_Qz', 'C', 'FC', 'Swr', 'n_vg', 'alpha_vg'],\n",
    "                        data = [phi, f_Ka, f_Qz, C, FC, Swr, n_vg, alpha_vg])\n",
    "input_df"
   ]
  },
  {
   "cell_type": "markdown",
   "id": "dcb40559",
   "metadata": {},
   "source": [
    "Mineral properties are given in Table 2."
   ]
  },
  {
   "cell_type": "code",
   "execution_count": 11,
   "id": "1d9f1191",
   "metadata": {},
   "outputs": [],
   "source": [
    "# Mineral properties\n",
    "K_Qz = 45     #GPa\n",
    "G_Qz = 36     #GPa \n",
    "rho_Qz = 2.6  #g/cc\n",
    "K_Ka = 1.5    #GPa\n",
    "G_Ka = 1.4    #GPa\n",
    "rho_Ka = 1.58 #g/cc"
   ]
  },
  {
   "cell_type": "markdown",
   "id": "c1027c9c",
   "metadata": {},
   "source": [
    "Fuild properties are given in Table2."
   ]
  },
  {
   "cell_type": "code",
   "execution_count": 12,
   "id": "0198858b",
   "metadata": {},
   "outputs": [],
   "source": [
    "# Fluid properties\n",
    "Kw = 2.3    #GPa\n",
    "rho_w = 1.0  #g/cc\n",
    "Ka = 1e-4   #GPa\n",
    "rho_a = 1e-3 #g/cc"
   ]
  },
  {
   "cell_type": "markdown",
   "id": "cd0d49f0",
   "metadata": {},
   "source": [
    "The Earth's gravitational acceleration is used to calculate the pressure (given in Section 2.2.2)."
   ]
  },
  {
   "cell_type": "code",
   "execution_count": 13,
   "id": "ea836a4c",
   "metadata": {},
   "outputs": [],
   "source": [
    "# Earth’s gravitational acceleration \n",
    "g = 9.806 #m.s^-2"
   ]
  },
  {
   "cell_type": "markdown",
   "id": "043b0b69",
   "metadata": {},
   "source": [
    "The depth is given in Section 3.1 (assumed to be half of the sample length)."
   ]
  },
  {
   "cell_type": "code",
   "execution_count": 14,
   "id": "70715701",
   "metadata": {},
   "outputs": [],
   "source": [
    "# Depth\n",
    "z = 10*1e-3  #m - section 3.1\n",
    "# z = 27*1e-2  #m - test velocity range for Thomas's experiment"
   ]
  },
  {
   "cell_type": "markdown",
   "id": "49ca26fd",
   "metadata": {},
   "source": [
    "### Capillary effects on Vp and Vs"
   ]
  },
  {
   "cell_type": "markdown",
   "id": "bea7cd2e",
   "metadata": {},
   "source": [
    "Input parameters (work either on Esperance Sand or Missouri Clay)."
   ]
  },
  {
   "cell_type": "code",
   "execution_count": 15,
   "id": "8f417d09",
   "metadata": {},
   "outputs": [],
   "source": [
    "# Work on Esperance sand or Missouri clay only for now\n",
    "i_litho = 1 #0: Esperance Sand, 1: Missouri clay\n",
    "phi = phi[i_litho]\n",
    "f_Ka = f_Ka[i_litho]\n",
    "f_Qz = f_Qz[i_litho]\n",
    "C = C[i_litho]\n",
    "FC = FC[i_litho]\n",
    "Swr = Swr[i_litho]\n",
    "n_vg = n_vg[i_litho]\n",
    "alpha_vg = alpha_vg[i_litho]"
   ]
  },
  {
   "cell_type": "markdown",
   "id": "d12c59d1",
   "metadata": {},
   "source": [
    "Hill average to calculate grain properties (mixture or Kaolinite and Quartz) *(Eq. 7)*."
   ]
  },
  {
   "cell_type": "code",
   "execution_count": 16,
   "id": "cd12566b",
   "metadata": {},
   "outputs": [],
   "source": [
    "# Grain properties\n",
    "Ks = HillAvr(K_Qz, f_Qz, K_Ka)\n",
    "Gs = HillAvr(G_Qz, f_Qz, G_Ka)\n",
    "rho_s = rho_Qz*f_Qz + (1-f_Qz)*rho_Ka"
   ]
  },
  {
   "cell_type": "markdown",
   "id": "8ff58f1d",
   "metadata": {},
   "source": [
    "Create water saturation array and calculate air-water mixture properties (average for fluid density, Wood's mixing law for fluid compressibility) *(Eq.11)*."
   ]
  },
  {
   "cell_type": "code",
   "execution_count": 17,
   "id": "b04bbe69",
   "metadata": {},
   "outputs": [],
   "source": [
    "# Fluid properties\n",
    "step_Sw = 0.001\n",
    "Sw = np.arange(Swr+step_Sw,1.0,step_Sw)\n",
    "rho_f = Sw*rho_w + (1-Sw)*rho_a #g/cc\n",
    "Kf = fluidWood(Sw, Kw, Ka)      #GPa"
   ]
  },
  {
   "cell_type": "markdown",
   "id": "49a86c1e",
   "metadata": {},
   "source": [
    "Calculate saturated soil density (needed to compute overburden stress)."
   ]
  },
  {
   "cell_type": "code",
   "execution_count": 18,
   "id": "feee459b",
   "metadata": {},
   "outputs": [],
   "source": [
    "# Bulk density\n",
    "rho_sat = rho_s*(1-phi) + rho_f*phi #g/cc"
   ]
  },
  {
   "cell_type": "markdown",
   "id": "d15e0e2e",
   "metadata": {},
   "source": [
    "Calculate overburden stress (assuming z = 10 mm = half of the sample length)."
   ]
  },
  {
   "cell_type": "code",
   "execution_count": 19,
   "id": "e2a03410",
   "metadata": {},
   "outputs": [],
   "source": [
    "# Effective pressure without capillary effects\n",
    "P = rho_sat*1e3*g*z\n",
    "P *= 1e-6 # conversion Pa -> MPa"
   ]
  },
  {
   "cell_type": "markdown",
   "id": "d21ca1d3",
   "metadata": {},
   "source": [
    "Calculate effective water saturation (knowing the total saturation and residual saturation); then compute the hydraulic pressure head $h$ by rearranging Richard's equation solution (equation 14). Finally, compute the effective pressure taking the capillary effects into account (equation 8). "
   ]
  },
  {
   "cell_type": "markdown",
   "id": "15ae4b9b",
   "metadata": {},
   "source": [
    "> **Note:** Not sure of z value used for $P_a$; does it matter?"
   ]
  },
  {
   "cell_type": "code",
   "execution_count": 20,
   "id": "787265e0",
   "metadata": {},
   "outputs": [],
   "source": [
    "# Effective pressure with capillary effects\n",
    "#Swe = Sw - Swr\n",
    "Swe = (Sw-Swr)/(1-Swr) # effective water saturation (unitless), see discussion after Eq.8\n",
    "m_vg = 1-1/n_vg # pore size distribution parameter (unitless)\n",
    "h = -((Swe**(-1/m_vg)-1)/alpha_vg**(n_vg))**(1/n_vg) # hydraulic pressure head (m)\n",
    "Pa = (rho_a*1e3*g*z)*1e-6  #MPa \n",
    "Pc = (-h*rho_w*1e3*g)*1e-6 #MPa\n",
    "Peff = P - Pa + Pc*Swe"
   ]
  },
  {
   "cell_type": "code",
   "execution_count": 31,
   "id": "8d2f237b",
   "metadata": {},
   "outputs": [
    {
     "data": {
      "image/png": "[encoded data removed]",
      "text/plain": [
       "<Figure size 432x288 with 1 Axes>"
      ]
     },
     "metadata": {
      "needs_background": "light"
     },
     "output_type": "display_data"
    }
   ],
   "source": [
    "#Plot\n",
    "fig, ax = plt.subplots(1,1, figsize=(6,4))\n",
    "ax.plot(Sw, P*1e3, 'r--', label='$P_e=\\sigma$')\n",
    "ax.plot(Sw, Peff*1e3, 'r', label='$P_e=\\sigma - P_a + \\chi P_c$')\n",
    "#Plot param\n",
    "ax.set(ylabel='Pressure (kPa)', \n",
    "       xlabel='$S_w$', xlim=[Swr,1.])\n",
    "ax.grid()\n",
    "ax.legend()\n",
    "plt.show()"
   ]
  },
  {
   "cell_type": "markdown",
   "id": "0fad44f0",
   "metadata": {},
   "source": [
    "Calculate the drained moduli using Hertz-Mindlin theory (without taking the capillary effects into account i.e. considering the effective pressure to be equal to the overburden stress and with taking the capillary effects into account)."
   ]
  },
  {
   "cell_type": "code",
   "execution_count": 22,
   "id": "d717a41d",
   "metadata": {},
   "outputs": [],
   "source": [
    "# Drained properties\n",
    "Kdr, Gdr = HertzMindlin(Ks, Gs, P, phi=phi, C=C, FC=FC)        #without capillary effects\n",
    "Kdr_c, Gdr_c = HertzMindlin(Ks, Gs, Peff, phi=phi, C=C, FC=FC) #with capillary effects"
   ]
  },
  {
   "cell_type": "code",
   "execution_count": 23,
   "id": "f0134f05",
   "metadata": {},
   "outputs": [
    {
     "data": {
      "image/png": "[encoded data removed]",
      "text/plain": [
       "<Figure size 432x360 with 1 Axes>"
      ]
     },
     "metadata": {
      "needs_background": "light"
     },
     "output_type": "display_data"
    }
   ],
   "source": [
    "fig, ax = plt.subplots(1,1, figsize=(6,5))\n",
    "ax.plot(Sw, Kdr*1e3, 'b--', label='Kdr')\n",
    "ax.plot(Sw, Gdr*1e3, 'r--', label='Gdr')\n",
    "#Plot param\n",
    "ax.set(ylabel='Kdr, Gdr (GPa)', \n",
    "       xlabel='$S_w$', xlim=[Swr,1.])\n",
    "ax.grid()\n",
    "ax.legend()\n",
    "plt.show()"
   ]
  },
  {
   "cell_type": "markdown",
   "id": "9509f430",
   "metadata": {},
   "source": [
    "Calculate the saturated properties using Gassmann equation."
   ]
  },
  {
   "cell_type": "code",
   "execution_count": 24,
   "id": "cbf1ae16",
   "metadata": {},
   "outputs": [],
   "source": [
    "# Saturated properties\n",
    "# -- without capillary effects\n",
    "Ksat = isoGassmann(Kdr, Gdr, Ks, Kf, phi)\n",
    "Vp_sat = Vp_from_K_G(Ksat, Gdr, rho_sat)\n",
    "Vs_sat = Vs_from_G(Gdr, rho_sat)\n",
    "# -- with capillary effects\n",
    "Ksat_c = isoGassmann(Kdr_c, Gdr_c, Ks, Kf, phi)\n",
    "Vp_sat_c = Vp_from_K_G(Ksat_c, Gdr_c, rho_sat)\n",
    "Vs_sat_c = Vs_from_G(Gdr_c, rho_sat)"
   ]
  },
  {
   "cell_type": "markdown",
   "id": "19699a02",
   "metadata": {},
   "source": [
    "Plot predictions against data from Dong and Lu (2016) and predictions from Solazzi et al. (2021):\n",
    "- *red lines:* current computations;\n",
    "- *blue lines:* predictions from Solazzi et al. (2021)."
   ]
  },
  {
   "cell_type": "markdown",
   "id": "e5b67592",
   "metadata": {},
   "source": [
    "> **Note:** differences between current predictions and Solazzi et al. (2021). Need to find out why. May be due to shear modulus value? Using G_Qz = 40 GPa yields a reasonable match between Solazzi et al. (2016) predictions and current predictions. "
   ]
  },
  {
   "cell_type": "code",
   "execution_count": 25,
   "id": "fddf18e9",
   "metadata": {},
   "outputs": [
    {
     "data": {
      "image/png": "[encoded data removed]",
      "text/plain": [
       "<Figure size 432x720 with 2 Axes>"
      ]
     },
     "metadata": {
      "needs_background": "light"
     },
     "output_type": "display_data"
    }
   ],
   "source": [
    "#Data to plot\n",
    "if i_litho==0: #Esperance Sand data (measured val + fit Solazzi)\n",
    "    ylimVs = [60,140]\n",
    "    ylimVp = [125,400]\n",
    "    Sw_meas = esp_sand_df.Sw.values\n",
    "    Vs_meas = esp_sand_df['Vs (m/s)'].values\n",
    "    Sw_fit = esp_sand_fit_df.Sw.values\n",
    "    Vs_fit_a = esp_sand_fit_df['Vs_a (m/s)'].values\n",
    "    Vs_fit_b = esp_sand_fit_df['Vs_b (m/s)'].values\n",
    "    Vp_fit_a = esp_sand_fit_df['Vp_a (m/s)'].values\n",
    "    Vp_fit_b = esp_sand_fit_df['Vp_b (m/s)'].values\n",
    "else: #Missouri Clay data (measured val + fit Solazzi)\n",
    "    ylimVs = [0,1000]\n",
    "    ylimVp = [0,1600]    \n",
    "    Sw_meas = mis_clay_df.Sw.values\n",
    "    Vs_meas = mis_clay_df['Vs (m/s)'].values\n",
    "    Sw_fit = mis_clay_fit_df.Sw.values\n",
    "    Vs_fit_a = mis_clay_fit_df['Vs_a (m/s)'].values\n",
    "    Vs_fit_b = mis_clay_fit_df['Vs_b (m/s)'].values\n",
    "    Vp_fit_a = mis_clay_fit_df['Vp_a (m/s)'].values\n",
    "    Vp_fit_b = mis_clay_fit_df['Vp_b (m/s)'].values\n",
    "#Plot\n",
    "fig, axs = plt.subplots(2,1, figsize=(6,10))\n",
    "axs[0].plot(Sw, Vs_sat*1e3, 'r--')\n",
    "axs[0].plot(Sw, Vs_sat_c*1e3, 'r')\n",
    "axs[0].plot(Sw_meas, Vs_meas, 'bo', label='Dong & Lu (2016) data')\n",
    "axs[0].plot(Sw_fit, Vs_fit_b, 'b--', label='$P_e=\\sigma$')\n",
    "axs[0].plot(Sw_fit, Vs_fit_a, 'b', label='$P_e=\\sigma - P_a + \\chi P_c$')\n",
    "axs[1].plot(Sw, Vp_sat*1e3, 'r--')\n",
    "axs[1].plot(Sw, Vp_sat_c*1e3, 'r')\n",
    "axs[1].plot(Sw_fit, Vp_fit_b, 'b--', label='$P_e=\\sigma$')\n",
    "axs[1].plot(Sw_fit, Vp_fit_a, 'b', label='$P_e=\\sigma - P_a + \\chi P_c$')\n",
    "#Plot param\n",
    "axs[0].set(ylabel='$V_S$ (m/s)', ylim=ylimVs, \n",
    "           xlabel='$S_w$', xlim=[Swr,1.])\n",
    "axs[1].set(ylabel='$V_P$ (m/s)', ylim=ylimVp,\n",
    "           xlabel='$S_w$', xlim=[Swr,1.])\n",
    "for i in range(0,2):\n",
    "    axs[i].grid()\n",
    "    axs[i].legend()\n",
    "plt.show()"
   ]
  },
  {
   "cell_type": "code",
   "execution_count": 26,
   "id": "82bbf26c",
   "metadata": {},
   "outputs": [
    {
     "data": {
      "text/plain": [
       "0.9990000000000007"
      ]
     },
     "execution_count": 26,
     "metadata": {},
     "output_type": "execute_result"
    }
   ],
   "source": [
    "np.max(Sw)"
   ]
  },
  {
   "cell_type": "code",
   "execution_count": 27,
   "id": "63f8ebe3",
   "metadata": {},
   "outputs": [
    {
     "data": {
      "text/plain": [
       "5.546260002393481"
      ]
     },
     "execution_count": 27,
     "metadata": {},
     "output_type": "execute_result"
    }
   ],
   "source": [
    "np.max(Vp_sat_c)"
   ]
  },
  {
   "cell_type": "code",
   "execution_count": 28,
   "id": "e7285a41",
   "metadata": {},
   "outputs": [
    {
     "data": {
      "text/plain": [
       "0.3872529949147773"
      ]
     },
     "execution_count": 28,
     "metadata": {},
     "output_type": "execute_result"
    }
   ],
   "source": [
    "np.max(Vp_sat)"
   ]
  },
  {
   "cell_type": "code",
   "execution_count": null,
   "id": "d1f83c41",
   "metadata": {},
   "outputs": [],
   "source": []
  }
 ],
 "metadata": {
  "kernelspec": {
   "display_name": "Python 3",
   "language": "python",
   "name": "python3"
  },
  "language_info": {
   "codemirror_mode": {
    "name": "ipython",
    "version": 3
   },
   "file_extension": ".py",
   "mimetype": "text/x-python",
   "name": "python",
   "nbconvert_exporter": "python",
   "pygments_lexer": "ipython3",
   "version": "3.8.8"
  }
 },
 "nbformat": 4,
 "nbformat_minor": 5
}
