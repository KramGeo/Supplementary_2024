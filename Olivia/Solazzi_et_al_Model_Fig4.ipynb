{
 "cells": [
  {
   "cell_type": "markdown",
   "metadata": {},
   "source": [
    "# Effect of capillary forces on $V_P$ and $V_S$\n",
    "Modelled using *Solazzi, S. G., Bodet, L., Holliger, K., & Jougnot, D. (2021). Surface‐Wave Dispersion in Partially Saturated Soils: The Role of Capillary Forces. Journal of Geophysical Research: Solid Earth, e2021JB022074*."
   ]
  },
  {
   "cell_type": "markdown",
   "metadata": {},
   "source": [
    "### Load Packages and Routines"
   ]
  },
  {
   "cell_type": "code",
   "execution_count": 1,
   "metadata": {},
   "outputs": [],
   "source": [
    "import os\n",
    "import numpy as np\n",
    "import pandas as pd\n",
    "import matplotlib.pyplot as plt"
   ]
  },
  {
   "cell_type": "code",
   "execution_count": 2,
   "metadata": {},
   "outputs": [
    {
     "ename": "FileNotFoundError",
     "evalue": "[Errno 2] No such file or directory: 'C:\\\\Olivia\\\\Python'",
     "output_type": "error",
     "traceback": [
      "\u001b[0;31m---------------------------------------------------------------------------\u001b[0m",
      "\u001b[0;31mFileNotFoundError\u001b[0m                         Traceback (most recent call last)",
      "\u001b[0;32m<ipython-input-2-d3d599f0dcad>\u001b[0m in \u001b[0;36m<module>\u001b[0;34m\u001b[0m\n\u001b[1;32m      1\u001b[0m \u001b[0;31m# Go to Python folder to import routines\u001b[0m\u001b[0;34m\u001b[0m\u001b[0;34m\u001b[0m\u001b[0;34m\u001b[0m\u001b[0m\n\u001b[1;32m      2\u001b[0m \u001b[0;32mif\u001b[0m \u001b[0mos\u001b[0m\u001b[0;34m.\u001b[0m\u001b[0mgetcwd\u001b[0m\u001b[0;34m(\u001b[0m\u001b[0;34m)\u001b[0m \u001b[0;34m!=\u001b[0m \u001b[0;34m'C:\\\\Olivia\\\\Python'\u001b[0m\u001b[0;34m:\u001b[0m\u001b[0;34m\u001b[0m\u001b[0;34m\u001b[0m\u001b[0m\n\u001b[0;32m----> 3\u001b[0;31m     \u001b[0mos\u001b[0m\u001b[0;34m.\u001b[0m\u001b[0mchdir\u001b[0m\u001b[0;34m(\u001b[0m\u001b[0;34m'C:\\\\Olivia\\\\Python'\u001b[0m\u001b[0;34m)\u001b[0m\u001b[0;34m\u001b[0m\u001b[0;34m\u001b[0m\u001b[0m\n\u001b[0m\u001b[1;32m      4\u001b[0m \u001b[0mprint\u001b[0m\u001b[0;34m(\u001b[0m\u001b[0;34m'Current directory: '\u001b[0m\u001b[0;34m,\u001b[0m \u001b[0mos\u001b[0m\u001b[0;34m.\u001b[0m\u001b[0mgetcwd\u001b[0m\u001b[0;34m(\u001b[0m\u001b[0;34m)\u001b[0m\u001b[0;34m)\u001b[0m\u001b[0;34m\u001b[0m\u001b[0;34m\u001b[0m\u001b[0m\n\u001b[1;32m      5\u001b[0m \u001b[0mprint\u001b[0m\u001b[0;34m(\u001b[0m\u001b[0;34m'Python folders: '\u001b[0m\u001b[0;34m,\u001b[0m \u001b[0mos\u001b[0m\u001b[0;34m.\u001b[0m\u001b[0mlistdir\u001b[0m\u001b[0;34m(\u001b[0m\u001b[0;34m)\u001b[0m\u001b[0;34m)\u001b[0m\u001b[0;34m\u001b[0m\u001b[0;34m\u001b[0m\u001b[0m\n",
      "\u001b[0;31mFileNotFoundError\u001b[0m: [Errno 2] No such file or directory: 'C:\\\\Olivia\\\\Python'"
     ]
    }
   ],
   "source": [
    "# Go to Python folder to import routines\n",
    "if os.getcwd() != 'C:\\\\Olivia\\\\Python': \n",
    "    os.chdir('C:\\\\Olivia\\\\Python')\n",
    "print('Current directory: ', os.getcwd())\n",
    "print('Python folders: ', os.listdir())"
   ]
  },
  {
   "cell_type": "code",
   "execution_count": 3,
   "metadata": {},
   "outputs": [],
   "source": [
    "# Import routines\n",
    "from EffectiveMedia.GranularModels import HertzMindlin\n",
    "from Fluid.Gassmann import isoGassmann, fluidWood\n",
    "from Hydro.hydro_models import Swe_from_wt_VG\n",
    "from Utils.bounds import HillAvr\n",
    "from Utils.elastic_param import Vp_from_K_G, Vs_from_G, nu_from_K_G"
   ]
  },
  {
   "cell_type": "markdown",
   "metadata": {},
   "source": [
    "### Plot parameters"
   ]
  },
  {
   "cell_type": "code",
   "execution_count": 4,
   "metadata": {},
   "outputs": [],
   "source": [
    "# Plot parameters\n",
    "plt.rc('axes',labelsize=16)\n",
    "plt.rc('font',size=14)\n",
    "plt.rc('xtick',labelsize='medium')\n",
    "plt.rc('ytick',labelsize='medium')"
   ]
  },
  {
   "cell_type": "markdown",
   "metadata": {},
   "source": [
    "### Input parameters"
   ]
  },
  {
   "cell_type": "markdown",
   "metadata": {},
   "source": [
    "Input parameters are listed in Table 1. The Kaolinite and Quartz fractions are given in the text (Section 3.2)."
   ]
  },
  {
   "cell_type": "code",
   "execution_count": 5,
   "metadata": {},
   "outputs": [
    {
     "data": {
      "text/html": [
       "<div>\n",
       "<style scoped>\n",
       "    .dataframe tbody tr th:only-of-type {\n",
       "        vertical-align: middle;\n",
       "    }\n",
       "\n",
       "    .dataframe tbody tr th {\n",
       "        vertical-align: top;\n",
       "    }\n",
       "\n",
       "    .dataframe thead th {\n",
       "        text-align: right;\n",
       "    }\n",
       "</style>\n",
       "<table border=\"1\" class=\"dataframe\">\n",
       "  <thead>\n",
       "    <tr style=\"text-align: right;\">\n",
       "      <th></th>\n",
       "      <th>Sandy Clay</th>\n",
       "    </tr>\n",
       "  </thead>\n",
       "  <tbody>\n",
       "    <tr>\n",
       "      <th>phi</th>\n",
       "      <td>0.38</td>\n",
       "    </tr>\n",
       "    <tr>\n",
       "      <th>f_Gc</th>\n",
       "      <td>0.43</td>\n",
       "    </tr>\n",
       "    <tr>\n",
       "      <th>f_Qz</th>\n",
       "      <td>0.57</td>\n",
       "    </tr>\n",
       "    <tr>\n",
       "      <th>C</th>\n",
       "      <td>8.00</td>\n",
       "    </tr>\n",
       "    <tr>\n",
       "      <th>FC</th>\n",
       "      <td>0.30</td>\n",
       "    </tr>\n",
       "    <tr>\n",
       "      <th>Swr</th>\n",
       "      <td>0.26</td>\n",
       "    </tr>\n",
       "    <tr>\n",
       "      <th>n_vg</th>\n",
       "      <td>1.23</td>\n",
       "    </tr>\n",
       "    <tr>\n",
       "      <th>alpha_vg</th>\n",
       "      <td>2.70</td>\n",
       "    </tr>\n",
       "  </tbody>\n",
       "</table>\n",
       "</div>"
      ],
      "text/plain": [
       "          Sandy Clay\n",
       "phi             0.38\n",
       "f_Gc            0.43\n",
       "f_Qz            0.57\n",
       "C               8.00\n",
       "FC              0.30\n",
       "Swr             0.26\n",
       "n_vg            1.23\n",
       "alpha_vg        2.70"
      ]
     },
     "execution_count": 5,
     "metadata": {},
     "output_type": "execute_result"
    }
   ],
   "source": [
    "phi = 0.38           #Porosity - Table 1\n",
    "f_Gc = 0.43          #Gulf  fraction - section 3.2\n",
    "f_Qz = 0.57          #Quartz fraction - section 3.2\n",
    "C = 8                #Coordination number - table 1\n",
    "FC = 0.3             #Friction coefficient - table 1\n",
    "Swr = 0.26           #Residual water saturation - table 1\n",
    "n_vg = 1.23          #Pore size distribution parameter - table 1\n",
    "alpha_vg = 0.027*1e2 #Inverse of pore entry pressure - table 1 - 1/m\n",
    "\n",
    "input_df = pd.DataFrame(columns = ['Sandy Clay'],\n",
    "                        index  = ['phi', 'f_Gc', 'f_Qz', 'C', 'FC', 'Swr', 'n_vg', 'alpha_vg'],\n",
    "                        data = [phi, f_Gc, f_Qz, C, FC, Swr, n_vg, alpha_vg])\n",
    "input_df"
   ]
  },
  {
   "cell_type": "markdown",
   "metadata": {},
   "source": [
    "Mineral properties are given in Table 2."
   ]
  },
  {
   "cell_type": "code",
   "execution_count": 6,
   "metadata": {},
   "outputs": [],
   "source": [
    "# Mineral properties\n",
    "K_Qz = 45     #GPa\n",
    "G_Qz = 36     #GPa\n",
    "rho_Qz = 2.6  #g/cc\n",
    "K_Gc = 7      #GPa\n",
    "G_Gc = 25     #GPa\n",
    "rho_Gc = 2.55 #g/cc"
   ]
  },
  {
   "cell_type": "markdown",
   "metadata": {},
   "source": [
    "Fuild properties are given in Table2."
   ]
  },
  {
   "cell_type": "code",
   "execution_count": 7,
   "metadata": {},
   "outputs": [],
   "source": [
    "# Fluid properties\n",
    "Kw = 2.3    #GPa\n",
    "rho_w = 1.0  #g/cc\n",
    "Ka = 1e-4   #GPa\n",
    "rho_a = 1e-3 #g/cc"
   ]
  },
  {
   "cell_type": "markdown",
   "metadata": {},
   "source": [
    "The Earth's gravitational acceleration is used to calculate the pressure (given in Section 2.2.2)."
   ]
  },
  {
   "cell_type": "code",
   "execution_count": 8,
   "metadata": {},
   "outputs": [],
   "source": [
    "# Earth’s gravitational acceleration \n",
    "g = 9.806 #m.s^-2"
   ]
  },
  {
   "cell_type": "markdown",
   "metadata": {},
   "source": [
    "The water table depth is given in Section 3.2."
   ]
  },
  {
   "cell_type": "code",
   "execution_count": 9,
   "metadata": {},
   "outputs": [],
   "source": [
    "# Water table depth\n",
    "wt = 25  #m - section 3.1"
   ]
  },
  {
   "cell_type": "markdown",
   "metadata": {},
   "source": [
    "### Load results from Solazzi et al. (2021)"
   ]
  },
  {
   "cell_type": "markdown",
   "metadata": {},
   "source": [
    "Data from Solazzi et al. (2021) was downloaded from the link provided in Solazzi et al. (2021) article: https://doi.org/10.5281/zenodo.5266459."
   ]
  },
  {
   "cell_type": "code",
   "execution_count": 10,
   "metadata": {},
   "outputs": [],
   "source": [
    "# Go to biblio folder to load data\n",
    "if os.getcwd() != ('C:/Olivia/Data/Surface Wave/Solazzi_et_al_2021/data_fig_4_5_6'):\n",
    "    os.chdir('C:/Olivia/Data/Surface Wave/Solazzi_et_al_2021/data_fig_4_5_6')"
   ]
  },
  {
   "cell_type": "code",
   "execution_count": 11,
   "metadata": {},
   "outputs": [
    {
     "data": {
      "text/html": [
       "<div>\n",
       "<style scoped>\n",
       "    .dataframe tbody tr th:only-of-type {\n",
       "        vertical-align: middle;\n",
       "    }\n",
       "\n",
       "    .dataframe tbody tr th {\n",
       "        vertical-align: top;\n",
       "    }\n",
       "\n",
       "    .dataframe thead th {\n",
       "        text-align: right;\n",
       "    }\n",
       "</style>\n",
       "<table border=\"1\" class=\"dataframe\">\n",
       "  <thead>\n",
       "    <tr style=\"text-align: right;\">\n",
       "      <th></th>\n",
       "      <th>z[m]</th>\n",
       "      <th>Sw[]</th>\n",
       "      <th>rho_b[kg/m3]</th>\n",
       "      <th>VP[m/s]</th>\n",
       "      <th>VS[m/s]</th>\n",
       "    </tr>\n",
       "  </thead>\n",
       "  <tbody>\n",
       "    <tr>\n",
       "      <th>0</th>\n",
       "      <td>-0.000</td>\n",
       "      <td>0.543</td>\n",
       "      <td>1813.002</td>\n",
       "      <td>17.901</td>\n",
       "      <td>0.000</td>\n",
       "    </tr>\n",
       "    <tr>\n",
       "      <th>1</th>\n",
       "      <td>-0.003</td>\n",
       "      <td>0.543</td>\n",
       "      <td>1813.006</td>\n",
       "      <td>146.605</td>\n",
       "      <td>91.476</td>\n",
       "    </tr>\n",
       "    <tr>\n",
       "      <th>2</th>\n",
       "      <td>-0.007</td>\n",
       "      <td>0.543</td>\n",
       "      <td>1813.009</td>\n",
       "      <td>164.305</td>\n",
       "      <td>102.678</td>\n",
       "    </tr>\n",
       "    <tr>\n",
       "      <th>3</th>\n",
       "      <td>-0.010</td>\n",
       "      <td>0.543</td>\n",
       "      <td>1813.012</td>\n",
       "      <td>175.660</td>\n",
       "      <td>109.856</td>\n",
       "    </tr>\n",
       "    <tr>\n",
       "      <th>4</th>\n",
       "      <td>-0.013</td>\n",
       "      <td>0.543</td>\n",
       "      <td>1813.015</td>\n",
       "      <td>184.200</td>\n",
       "      <td>115.252</td>\n",
       "    </tr>\n",
       "    <tr>\n",
       "      <th>...</th>\n",
       "      <td>...</td>\n",
       "      <td>...</td>\n",
       "      <td>...</td>\n",
       "      <td>...</td>\n",
       "      <td>...</td>\n",
       "    </tr>\n",
       "    <tr>\n",
       "      <th>11995</th>\n",
       "      <td>-39.983</td>\n",
       "      <td>1.000</td>\n",
       "      <td>1986.668</td>\n",
       "      <td>1763.024</td>\n",
       "      <td>424.522</td>\n",
       "    </tr>\n",
       "    <tr>\n",
       "      <th>11996</th>\n",
       "      <td>-39.987</td>\n",
       "      <td>1.000</td>\n",
       "      <td>1986.668</td>\n",
       "      <td>1763.027</td>\n",
       "      <td>424.528</td>\n",
       "    </tr>\n",
       "    <tr>\n",
       "      <th>11997</th>\n",
       "      <td>-39.990</td>\n",
       "      <td>1.000</td>\n",
       "      <td>1986.668</td>\n",
       "      <td>1763.030</td>\n",
       "      <td>424.534</td>\n",
       "    </tr>\n",
       "    <tr>\n",
       "      <th>11998</th>\n",
       "      <td>-39.993</td>\n",
       "      <td>1.000</td>\n",
       "      <td>1986.668</td>\n",
       "      <td>1763.033</td>\n",
       "      <td>424.540</td>\n",
       "    </tr>\n",
       "    <tr>\n",
       "      <th>11999</th>\n",
       "      <td>-39.997</td>\n",
       "      <td>1.000</td>\n",
       "      <td>1986.668</td>\n",
       "      <td>1763.037</td>\n",
       "      <td>424.546</td>\n",
       "    </tr>\n",
       "  </tbody>\n",
       "</table>\n",
       "<p>12000 rows × 5 columns</p>\n",
       "</div>"
      ],
      "text/plain": [
       "         z[m]   Sw[]  rho_b[kg/m3]   VP[m/s]  VS[m/s]\n",
       "0      -0.000  0.543      1813.002    17.901    0.000\n",
       "1      -0.003  0.543      1813.006   146.605   91.476\n",
       "2      -0.007  0.543      1813.009   164.305  102.678\n",
       "3      -0.010  0.543      1813.012   175.660  109.856\n",
       "4      -0.013  0.543      1813.015   184.200  115.252\n",
       "...       ...    ...           ...       ...      ...\n",
       "11995 -39.983  1.000      1986.668  1763.024  424.522\n",
       "11996 -39.987  1.000      1986.668  1763.027  424.528\n",
       "11997 -39.990  1.000      1986.668  1763.030  424.534\n",
       "11998 -39.993  1.000      1986.668  1763.033  424.540\n",
       "11999 -39.997  1.000      1986.668  1763.037  424.546\n",
       "\n",
       "[12000 rows x 5 columns]"
      ]
     },
     "execution_count": 11,
     "metadata": {},
     "output_type": "execute_result"
    }
   ],
   "source": [
    "# Model2: model that does not account for suction effects\n",
    "solazzi_prop_model2_df = pd.read_csv('sandyclay_WT25_prop_model2.txt', skiprows=2, sep=' ') \n",
    "# Manipulate df to get proper column name for depth (z[m] instead of #)\n",
    "col_names = list(solazzi_prop_model2_df.columns)\n",
    "col_names.remove('#')\n",
    "solazzi_prop_model2_df.dropna(axis=1,inplace=True)\n",
    "solazzi_prop_model2_df.columns = col_names\n",
    "solazzi_prop_model2_df"
   ]
  },
  {
   "cell_type": "code",
   "execution_count": 12,
   "metadata": {},
   "outputs": [
    {
     "data": {
      "text/html": [
       "<div>\n",
       "<style scoped>\n",
       "    .dataframe tbody tr th:only-of-type {\n",
       "        vertical-align: middle;\n",
       "    }\n",
       "\n",
       "    .dataframe tbody tr th {\n",
       "        vertical-align: top;\n",
       "    }\n",
       "\n",
       "    .dataframe thead th {\n",
       "        text-align: right;\n",
       "    }\n",
       "</style>\n",
       "<table border=\"1\" class=\"dataframe\">\n",
       "  <thead>\n",
       "    <tr style=\"text-align: right;\">\n",
       "      <th></th>\n",
       "      <th>z[m]</th>\n",
       "      <th>Sw[]</th>\n",
       "      <th>rho_b[kg/m3]</th>\n",
       "      <th>VP[m/s]</th>\n",
       "      <th>VS[m/s]</th>\n",
       "    </tr>\n",
       "  </thead>\n",
       "  <tbody>\n",
       "    <tr>\n",
       "      <th>0</th>\n",
       "      <td>-0.000</td>\n",
       "      <td>0.543</td>\n",
       "      <td>1813.002</td>\n",
       "      <td>496.349</td>\n",
       "      <td>311.834</td>\n",
       "    </tr>\n",
       "    <tr>\n",
       "      <th>1</th>\n",
       "      <td>-0.003</td>\n",
       "      <td>0.543</td>\n",
       "      <td>1813.006</td>\n",
       "      <td>496.393</td>\n",
       "      <td>311.862</td>\n",
       "    </tr>\n",
       "    <tr>\n",
       "      <th>2</th>\n",
       "      <td>-0.007</td>\n",
       "      <td>0.543</td>\n",
       "      <td>1813.009</td>\n",
       "      <td>496.437</td>\n",
       "      <td>311.889</td>\n",
       "    </tr>\n",
       "    <tr>\n",
       "      <th>3</th>\n",
       "      <td>-0.010</td>\n",
       "      <td>0.543</td>\n",
       "      <td>1813.012</td>\n",
       "      <td>496.480</td>\n",
       "      <td>311.917</td>\n",
       "    </tr>\n",
       "    <tr>\n",
       "      <th>4</th>\n",
       "      <td>-0.013</td>\n",
       "      <td>0.543</td>\n",
       "      <td>1813.015</td>\n",
       "      <td>496.524</td>\n",
       "      <td>311.944</td>\n",
       "    </tr>\n",
       "    <tr>\n",
       "      <th>...</th>\n",
       "      <td>...</td>\n",
       "      <td>...</td>\n",
       "      <td>...</td>\n",
       "      <td>...</td>\n",
       "      <td>...</td>\n",
       "    </tr>\n",
       "    <tr>\n",
       "      <th>11995</th>\n",
       "      <td>-39.983</td>\n",
       "      <td>1.000</td>\n",
       "      <td>1986.668</td>\n",
       "      <td>1763.024</td>\n",
       "      <td>424.522</td>\n",
       "    </tr>\n",
       "    <tr>\n",
       "      <th>11996</th>\n",
       "      <td>-39.987</td>\n",
       "      <td>1.000</td>\n",
       "      <td>1986.668</td>\n",
       "      <td>1763.027</td>\n",
       "      <td>424.528</td>\n",
       "    </tr>\n",
       "    <tr>\n",
       "      <th>11997</th>\n",
       "      <td>-39.990</td>\n",
       "      <td>1.000</td>\n",
       "      <td>1986.668</td>\n",
       "      <td>1763.030</td>\n",
       "      <td>424.534</td>\n",
       "    </tr>\n",
       "    <tr>\n",
       "      <th>11998</th>\n",
       "      <td>-39.993</td>\n",
       "      <td>1.000</td>\n",
       "      <td>1986.668</td>\n",
       "      <td>1763.033</td>\n",
       "      <td>424.540</td>\n",
       "    </tr>\n",
       "    <tr>\n",
       "      <th>11999</th>\n",
       "      <td>-39.997</td>\n",
       "      <td>1.000</td>\n",
       "      <td>1986.668</td>\n",
       "      <td>1763.037</td>\n",
       "      <td>424.546</td>\n",
       "    </tr>\n",
       "  </tbody>\n",
       "</table>\n",
       "<p>12000 rows × 5 columns</p>\n",
       "</div>"
      ],
      "text/plain": [
       "         z[m]   Sw[]  rho_b[kg/m3]   VP[m/s]  VS[m/s]\n",
       "0      -0.000  0.543      1813.002   496.349  311.834\n",
       "1      -0.003  0.543      1813.006   496.393  311.862\n",
       "2      -0.007  0.543      1813.009   496.437  311.889\n",
       "3      -0.010  0.543      1813.012   496.480  311.917\n",
       "4      -0.013  0.543      1813.015   496.524  311.944\n",
       "...       ...    ...           ...       ...      ...\n",
       "11995 -39.983  1.000      1986.668  1763.024  424.522\n",
       "11996 -39.987  1.000      1986.668  1763.027  424.528\n",
       "11997 -39.990  1.000      1986.668  1763.030  424.534\n",
       "11998 -39.993  1.000      1986.668  1763.033  424.540\n",
       "11999 -39.997  1.000      1986.668  1763.037  424.546\n",
       "\n",
       "[12000 rows x 5 columns]"
      ]
     },
     "execution_count": 12,
     "metadata": {},
     "output_type": "execute_result"
    }
   ],
   "source": [
    "# Model3: model that accounts for suction effects\n",
    "solazzi_prop_model3_df = pd.read_csv('sandyclay_WT25_prop_model3.txt', skiprows=2, sep=' ') \n",
    "# Manipulate df to get proper column name for depth (z[m] instead of #)\n",
    "col_names = list(solazzi_prop_model3_df.columns)\n",
    "col_names.remove('#')\n",
    "solazzi_prop_model3_df.dropna(axis=1,inplace=True)\n",
    "solazzi_prop_model3_df.columns = col_names\n",
    "solazzi_prop_model3_df"
   ]
  },
  {
   "cell_type": "markdown",
   "metadata": {},
   "source": [
    "### Saturation profile"
   ]
  },
  {
   "cell_type": "markdown",
   "metadata": {},
   "source": [
    "First, we calculate the saturation profile $S_w$ using van Genutchen model to relate $S_{we}$ to the water table depth (see also Zyserman et al., 2017). This involves knowing:\n",
    "- the residual water saturation $S_{wr}$;\n",
    "- the water table depth $wt$;\n",
    "- the inverse of the pore entry pressure $\\alpha_{vg}$;\n",
    "- the pore size distribution parameter $n_{vg}$."
   ]
  },
  {
   "cell_type": "code",
   "execution_count": 13,
   "metadata": {},
   "outputs": [],
   "source": [
    "z = np.linspace(0, 40, 100)"
   ]
  },
  {
   "cell_type": "code",
   "execution_count": 14,
   "metadata": {},
   "outputs": [],
   "source": [
    "# Swe = np.ones(len(z))\n",
    "# I = np.where(z<=wt)\n",
    "# m_vg = 1-1/n_vg # pore size distribution parameter (unitless)\n",
    "# for i in I[0]:\n",
    "#     Swe[i] = (1+(alpha_vg*(wt-z[i]))**n_vg)**(-m_vg) #Eq.16\n",
    "# Sw = Swe*(1-Swr)+Swr #See discussion after Eq.8"
   ]
  },
  {
   "cell_type": "code",
   "execution_count": 15,
   "metadata": {},
   "outputs": [],
   "source": [
    "# Swe = np.ones(len(z))\n",
    "# I = np.where(z<=wt)\n",
    "# m_vg = 1-1/n_vg # pore size distribution parameter (unitless)\n",
    "# Swe[I] = (1+(alpha_vg*(wt-z[I]))**n_vg)**(-m_vg) #Eq.16\n",
    "# Sw = Swe*(1-Swr)+Swr #See discussion after Eq.8"
   ]
  },
  {
   "cell_type": "code",
   "execution_count": 16,
   "metadata": {},
   "outputs": [],
   "source": [
    "Swe = Swe_from_wt_VG(z, wt, alpha_vg, n_vg)\n",
    "Sw = Swe*(1-Swr)+Swr #See discussion after Eq.8"
   ]
  },
  {
   "cell_type": "code",
   "execution_count": 17,
   "metadata": {},
   "outputs": [
    {
     "data": {
      "image/png": "[encoded data removed]",
      "text/plain": [
       "<Figure size 432x288 with 1 Axes>"
      ]
     },
     "metadata": {
      "needs_background": "light"
     },
     "output_type": "display_data"
    }
   ],
   "source": [
    "fig, ax = plt.subplots()\n",
    "ax.plot(Sw,z,'r',label='current pred')\n",
    "ax.plot(solazzi_prop_model3_df['Sw[]'].values, -solazzi_prop_model3_df['z[m]'], \n",
    "        'b', label='Solazzi et al.')\n",
    "ax.set(xlabel='Sw', xlim=[0.,1.],\n",
    "       ylabel='z (m)', ylim=[40,0],\n",
    "       title='Saturation profile')\n",
    "ax.legend()\n",
    "ax.grid()"
   ]
  },
  {
   "cell_type": "markdown",
   "metadata": {},
   "source": [
    "### Bulk density profile"
   ]
  },
  {
   "cell_type": "markdown",
   "metadata": {},
   "source": [
    "Using the saturation profile, we know calculate the bulk density profile, knowing the mineral and fluid properties."
   ]
  },
  {
   "cell_type": "code",
   "execution_count": 18,
   "metadata": {},
   "outputs": [],
   "source": [
    "# Fluid density\n",
    "rho_f = Sw*rho_w + (1-Sw)*rho_a #g/cc\n",
    "# Grain density\n",
    "rho_s = rho_Qz*f_Qz + (1-f_Qz)*rho_Gc #g/cc\n",
    "# Bulk density\n",
    "rho_sat = rho_s*(1-phi) + rho_f*phi #g/cc"
   ]
  },
  {
   "cell_type": "code",
   "execution_count": 19,
   "metadata": {},
   "outputs": [
    {
     "data": {
      "image/png": "[encoded data removed]",
      "text/plain": [
       "<Figure size 432x288 with 1 Axes>"
      ]
     },
     "metadata": {
      "needs_background": "light"
     },
     "output_type": "display_data"
    }
   ],
   "source": [
    "fig, ax = plt.subplots()\n",
    "ax.plot(rho_sat, z, 'r')\n",
    "ax.plot(solazzi_prop_model3_df['rho_b[kg/m3]'].values*1e-3, -solazzi_prop_model3_df['z[m]'], 'b')\n",
    "ax.set(xlabel='Density (g/cc)', xlim=[1.5, 2.0],\n",
    "       ylabel='z (m)', ylim=[40,0],\n",
    "       title='Bulk density profile')\n",
    "ax.grid()"
   ]
  },
  {
   "cell_type": "markdown",
   "metadata": {},
   "source": [
    "> **Note :** Small inconsistancy between current code and Solazzi et al. (2021) paper. This may be due to the fact that Solazzi et al. (2021) may be introducing a silt fraction (wclay = 0.43; wsilt = 0.05; wsand = 0.52;) as specified in *README_data_fig_4_5_6.txt*."
   ]
  },
  {
   "cell_type": "markdown",
   "metadata": {},
   "source": [
    "### Velocity profiles"
   ]
  },
  {
   "cell_type": "code",
   "execution_count": 20,
   "metadata": {},
   "outputs": [],
   "source": [
    "# Grain properties\n",
    "Ks = HillAvr(K_Qz, f_Qz, K_Gc) #GPa\n",
    "Gs = HillAvr(G_Qz, f_Qz, G_Gc) #GPa"
   ]
  },
  {
   "cell_type": "code",
   "execution_count": 21,
   "metadata": {},
   "outputs": [],
   "source": [
    "# Fluid properties\n",
    "Kf = fluidWood(Sw, Kw, Ka) #GPa"
   ]
  },
  {
   "cell_type": "code",
   "execution_count": 22,
   "metadata": {},
   "outputs": [],
   "source": [
    "# Effective pressure without capillary effects\n",
    "prod_rhoDepth_min = np.zeros(np.shape(rho_sat))\n",
    "P = np.zeros(np.shape(rho_sat))\n",
    "for i_depth in range(1,len(rho_sat)):\n",
    "    prod_rhoDepth_min[i_depth] = rho_sat[i_depth-1]*1e3*abs(z[i_depth]-z[i_depth-1])\n",
    "    P[i_depth] = np.sum(prod_rhoDepth_min[0:i_depth])*g\n",
    "#P = rho_sat*1e3*g*z #Old: before 28/10/2022\n",
    "P *= 1e-6 # conversion Pa -> MPa"
   ]
  },
  {
   "cell_type": "code",
   "execution_count": 23,
   "metadata": {},
   "outputs": [
    {
     "data": {
      "image/png": "[encoded data removed]",
      "text/plain": [
       "<Figure size 432x288 with 1 Axes>"
      ]
     },
     "metadata": {
      "needs_background": "light"
     },
     "output_type": "display_data"
    }
   ],
   "source": [
    "# Effective pressure with capillary effects\n",
    "# #-- Option 1: computing Pa and Pw from air and water density\n",
    "# Pa = (rho_a*1e3*g*z)*1e-6  #MPa \n",
    "# Pw = (rho_w*1e3*g*z)*1e-6  #MPa \n",
    "# Peff = P - Pa*(1-Swe) - Pw*Swe #MPa\n",
    "\n",
    "#-- Option 2: same workflow as fig3\n",
    "m_vg = 1-1/n_vg # pore size distribution parameter (unitless)\n",
    "h = -((Swe**(-1/m_vg)-1)/alpha_vg**(n_vg))**(1/n_vg) # hydraulic pressure head (m)\n",
    "Pa = (rho_a*1e3*g*z)*1e-6  #MPa \n",
    "Pc = (-h*rho_w*1e3*g)*1e-6 #MPa\n",
    "Pw = Pa - Pc\n",
    "Peff = P - Pa + Pc*Swe\n",
    "\n",
    "fig, ax = plt.subplots()\n",
    "ax.plot(P, z, label='$\\sigma$')\n",
    "ax.plot(Pa, z, label='$P_a$')\n",
    "ax.plot(Pw, z, label='$P_w$')\n",
    "ax.plot(Peff, z, label='$P_{eff}$')\n",
    "ax.set(xlabel='P (MPa)',\n",
    "       ylabel='z (m)', ylim=[40,0],\n",
    "       title='Pressure profile')\n",
    "ax.legend()\n",
    "ax.grid()"
   ]
  },
  {
   "cell_type": "code",
   "execution_count": 24,
   "metadata": {},
   "outputs": [],
   "source": [
    "# Drained properties\n",
    "Kdr, Gdr = HertzMindlin(Ks, Gs, P, phi=phi, C=C, FC=FC)        #without capillary effects\n",
    "Kdr_c, Gdr_c = HertzMindlin(Ks, Gs, Peff, phi=phi, C=C, FC=FC) #with capillary effects"
   ]
  },
  {
   "cell_type": "code",
   "execution_count": 25,
   "metadata": {},
   "outputs": [],
   "source": [
    "# Saturated properties\n",
    "# -- without capillary effects\n",
    "Ksat = isoGassmann(Kdr, Gdr, Ks, Kf, phi)\n",
    "Vp_sat = Vp_from_K_G(Ksat, Gdr, rho_sat)\n",
    "Vs_sat = Vs_from_G(Gdr, rho_sat)\n",
    "# -- with capillary effects\n",
    "Ksat_c = isoGassmann(Kdr_c, Gdr_c, Ks, Kf, phi)\n",
    "Vp_sat_c = Vp_from_K_G(Ksat_c, Gdr_c, rho_sat)\n",
    "Vs_sat_c = Vs_from_G(Gdr_c, rho_sat)"
   ]
  },
  {
   "cell_type": "code",
   "execution_count": 26,
   "metadata": {},
   "outputs": [
    {
     "data": {
      "image/png": "[encoded data removed]",
      "text/plain": [
       "<Figure size 864x288 with 2 Axes>"
      ]
     },
     "metadata": {
      "needs_background": "light"
     },
     "output_type": "display_data"
    }
   ],
   "source": [
    "fig, axs = plt.subplots(1,2, figsize=(12,4))\n",
    "axs[0].plot(Vp_sat*1e3, z, \n",
    "            'r--', label='$P_e=\\sigma$')\n",
    "# axs[0].plot(Vp_sat_c*1e3, z, \n",
    "#             'r', label='$P_e=\\sigma - P_a + \\chi P_c$')\n",
    "axs[0].plot(solazzi_prop_model2_df['VP[m/s]'].values, -solazzi_prop_model2_df['z[m]'], \n",
    "        'b--', label='$P_e=\\sigma$')\n",
    "# axs[0].plot(solazzi_prop_model3_df['VP[m/s]'].values, -solazzi_prop_model3_df['z[m]'], \n",
    "#         'b', label='$P_e=\\sigma - P_a + \\chi P_c$')\n",
    "axs[0].set(xlabel='$V_P$ (m/s)', xlim=[0, 2000],\n",
    "           title='P-wave velocity profile')\n",
    "axs[1].plot(Vs_sat*1e3, z, \n",
    "           'r--', label='$P_e=\\sigma$')\n",
    "# axs[1].plot(Vs_sat_c*1e3, z,\n",
    "#            'r', label='$P_e=\\sigma - P_a + \\chi P_c$')\n",
    "axs[1].plot(solazzi_prop_model2_df['VS[m/s]'].values, -solazzi_prop_model2_df['z[m]'], \n",
    "        'b--', label='$P_e=\\sigma$')\n",
    "# axs[1].plot(solazzi_prop_model3_df['VS[m/s]'].values, -solazzi_prop_model3_df['z[m]'], \n",
    "#         'b', label='$P_e=\\sigma - P_a + \\chi P_c$')\n",
    "axs[1].set(xlabel='$V_S$ (m/s)', xlim=[0, 600],\n",
    "           title='S-wave velocity profile')\n",
    "for i in range(0,2):\n",
    "    axs[i].set(ylabel='z (m)', ylim=[40,0])\n",
    "    axs[i].grid()\n",
    "    axs[i].legend()"
   ]
  },
  {
   "cell_type": "code",
   "execution_count": 27,
   "metadata": {},
   "outputs": [
    {
     "data": {
      "image/png": "[encoded data removed]",
      "text/plain": [
       "<Figure size 864x288 with 2 Axes>"
      ]
     },
     "metadata": {
      "needs_background": "light"
     },
     "output_type": "display_data"
    }
   ],
   "source": [
    "fig, axs = plt.subplots(1,2, figsize=(12,4))\n",
    "axs[0].plot(Vp_sat*1e3, z, \n",
    "            'r--', label='$P_e=\\sigma$')\n",
    "axs[0].plot(Vp_sat_c*1e3, z, \n",
    "            'r', label='$P_e=\\sigma - P_a + \\chi P_c$')\n",
    "axs[0].plot(solazzi_prop_model2_df['VP[m/s]'].values, -solazzi_prop_model2_df['z[m]'], \n",
    "        'b--', label='$P_e=\\sigma$')\n",
    "axs[0].plot(solazzi_prop_model3_df['VP[m/s]'].values, -solazzi_prop_model3_df['z[m]'], \n",
    "        'b', label='$P_e=\\sigma - P_a + \\chi P_c$')\n",
    "axs[0].set(xlabel='$V_P$ (m/s)', xlim=[0, 2000],\n",
    "           title='P-wave velocity profile')\n",
    "axs[1].plot(Vs_sat*1e3, z, \n",
    "           'r--', label='$P_e=\\sigma$')\n",
    "axs[1].plot(Vs_sat_c*1e3, z,\n",
    "           'r', label='$P_e=\\sigma - P_a + \\chi P_c$')\n",
    "axs[1].plot(solazzi_prop_model2_df['VS[m/s]'].values, -solazzi_prop_model2_df['z[m]'], \n",
    "        'b--', label='$P_e=\\sigma$')\n",
    "axs[1].plot(solazzi_prop_model3_df['VS[m/s]'].values, -solazzi_prop_model3_df['z[m]'], \n",
    "        'b', label='$P_e=\\sigma - P_a + \\chi P_c$')\n",
    "axs[1].set(xlabel='Sw', xlim=[0, 600],\n",
    "           title='S-wave velocity profile')\n",
    "for i in range(0,2):\n",
    "    axs[i].set(ylabel='z (m)', ylim=[40,0])\n",
    "    axs[i].grid()\n",
    "    axs[i].legend()"
   ]
  },
  {
   "cell_type": "markdown",
   "metadata": {},
   "source": [
    "> *Note*: Vp, Vs don't start at 0 for case taking capillary pressure into account (check how it is computed)."
   ]
  },
  {
   "cell_type": "markdown",
   "metadata": {},
   "source": [
    "### Poisson ratio profile"
   ]
  },
  {
   "cell_type": "code",
   "execution_count": 28,
   "metadata": {},
   "outputs": [],
   "source": [
    "nu_sat = nu_from_K_G(Ksat, Gdr)\n",
    "nu_sat_c = nu_from_K_G(Ksat_c, Gdr_c)"
   ]
  },
  {
   "cell_type": "code",
   "execution_count": 29,
   "metadata": {},
   "outputs": [
    {
     "data": {
      "image/png": "[encoded data removed]",
      "text/plain": [
       "<Figure size 432x288 with 1 Axes>"
      ]
     },
     "metadata": {
      "needs_background": "light"
     },
     "output_type": "display_data"
    }
   ],
   "source": [
    "fig, ax = plt.subplots()\n",
    "ax.plot(nu_sat, z, label='$P_e=\\sigma$')\n",
    "ax.plot(nu_sat_c, z, label='$P_e=\\sigma - P_a + \\chi P_c$')\n",
    "ax.set(xlabel='Poisson ratio', xlim=[0., 0.5],\n",
    "       ylabel='z (m)', ylim=[40,0],\n",
    "       title='Poisson ratio profile')\n",
    "ax.grid()"
   ]
  },
  {
   "cell_type": "markdown",
   "metadata": {},
   "source": [
    "### Wave travel times"
   ]
  },
  {
   "cell_type": "code",
   "execution_count": 30,
   "metadata": {},
   "outputs": [
    {
     "ename": "SyntaxError",
     "evalue": "invalid syntax (<ipython-input-30-f161547ef4b4>, line 1)",
     "output_type": "error",
     "traceback": [
      "\u001b[1;36m  File \u001b[1;32m\"<ipython-input-30-f161547ef4b4>\"\u001b[1;36m, line \u001b[1;32m1\u001b[0m\n\u001b[1;33m    tp =\u001b[0m\n\u001b[1;37m         ^\u001b[0m\n\u001b[1;31mSyntaxError\u001b[0m\u001b[1;31m:\u001b[0m invalid syntax\n"
     ]
    }
   ],
   "source": [
    "tp = "
   ]
  },
  {
   "cell_type": "code",
   "execution_count": null,
   "metadata": {},
   "outputs": [],
   "source": []
  }
 ],
 "metadata": {
  "kernelspec": {
   "display_name": "Python 3",
   "language": "python",
   "name": "python3"
  },
  "language_info": {
   "codemirror_mode": {
    "name": "ipython",
    "version": 3
   },
   "file_extension": ".py",
   "mimetype": "text/x-python",
   "name": "python",
   "nbconvert_exporter": "python",
   "pygments_lexer": "ipython3",
   "version": "3.7.4"
  }
 },
 "nbformat": 4,
 "nbformat_minor": 5
}
